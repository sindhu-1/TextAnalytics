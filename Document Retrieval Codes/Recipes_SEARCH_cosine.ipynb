{
 "cells": [
  {
   "cell_type": "code",
   "execution_count": 1,
   "metadata": {},
   "outputs": [
    {
     "name": "stderr",
     "output_type": "stream",
     "text": [
      "C:\\Users\\User\\Anaconda3\\lib\\site-packages\\gensim\\utils.py:1197: UserWarning: detected Windows; aliasing chunkize to chunkize_serial\n",
      "  warnings.warn(\"detected Windows; aliasing chunkize to chunkize_serial\")\n"
     ]
    }
   ],
   "source": [
    "import numpy as np\n",
    "import pandas as pd\n",
    "import nltk\n",
    "import re\n",
    "import os\n",
    "import codecs\n",
    "from sklearn import feature_extraction\n",
    "import mpld3\n",
    "import gensim\n",
    "#from spellchecker import SpellChecker\n",
    "\n",
    "# To display full text\n",
    "pd.set_option('display.max_colwidth', -1)\n",
    "\n",
    "# Load the Lemmatisation function --------------------------------------------------------\n",
    "from nltk.stem import WordNetLemmatizer\n",
    "lemmatizer = WordNetLemmatizer()\n",
    "\n",
    "\n",
    "# Load the Stop words ---------------------------------------------------------------------\n",
    "from sklearn.feature_extraction.text import CountVectorizer\n",
    " \n",
    "# Defining custom stop words\n",
    "stopwords = nltk.corpus.stopwords.words('english')\n",
    "stopwords = stopwords  + ['cup','teaspoon','tablespoon','sweet', 'low', 'high','medium', 'chopped', 'crushed', 'pound', 'small', 'fresh', 'clove', 'oz', \n",
    "                'ounce','cut','taste','thinly','lengthwis','extra','garnish','finely','long','short','inch','thin','pieces',\n",
    "                'wide','lightly','country','discarded','across','package','packed','pieces','extra','squeezed','sometimes',\n",
    "                'half','free','box','container','jar','equipment','pale','lengthwise','perferably','note','divided','piece',\n",
    "                'part','separated','bunch','large','lb','kosher','salt','freshly_ground','ground','plus_more','minced',\n",
    "                'cut_into','peeled','thinly_sliced','tbsp','tsp','gram','dice','room_temperature','coarsely','coarse_kosher','coarse','dash_of',\n",
    "                'ml','plus','inch_cubes','water','diced','seeded','dried','frozen','such_as','red','white','green','brown','oil','chilled',\n",
    "                'grated','slice','sliced','thick','to_taste','leaf','ounce_can','peel','hot','cold','wedge','pinch_of',\n",
    "                'whole','size','remove','removed','strip','special_equipment','optional','trimmed','crosswise','xa','fine','sliced_thin',\n",
    "                'halved','halved_lengthwise','quartered','inch_thick_slices','crumbled','inch_dice','drained','loosely_packed',\n",
    "                'preferably','cooked','uncooked','thawed','pitted','cored','canned_low','powder','stick','round','tied',\n",
    "                'dry_white','softened','soft','head','some_supermarkets','one','two','eight','add','grade','torn','left_intact','dash',\n",
    "                'deveined','freshly','melted','for_garnish','strong','ounce bag','ounce_package','several','by_inch','quart','quarter',\n",
    "                'lightly_beaten','if_needed','packed_golden_brown','picked','pale_green_parts_only','prepared','double','mild',\n",
    "                'slivered','special_equipment_an_instant','at_room_temperature','medium','plus_more_if_needed','medium_size',\n",
    "                'very_thinly_sliced','wear_rubber_gloves']"
   ]
  },
  {
   "cell_type": "code",
   "execution_count": 2,
   "metadata": {},
   "outputs": [],
   "source": [
    "# Pre Processing function -------------------------------------------------------\n",
    "import re\n",
    "def pre_process(text):\n",
    "    \n",
    "    # lowercase\n",
    "    text=text.lower()\n",
    "    \n",
    "    #remove tags\n",
    "    text=re.sub(\"&lt;/?.*?&gt;\",\" &lt;&gt; \",text)\n",
    "    \n",
    "    # remove special characters and digits\n",
    "    text=re.sub(\"(\\\\d|\\\\W)+\",\" \",text)\n",
    "    \n",
    "    return text"
   ]
  },
  {
   "cell_type": "code",
   "execution_count": 3,
   "metadata": {},
   "outputs": [],
   "source": [
    "# Define a function to calculate cosine similarity\n",
    "import numpy.linalg as LA\n",
    "cx = lambda a, b : round(np.inner(a, b)/(LA.norm(a)*LA.norm(b)), 3)"
   ]
  },
  {
   "cell_type": "code",
   "execution_count": 4,
   "metadata": {},
   "outputs": [],
   "source": [
    "# Reading the data\n",
    "import pandas as pd\n",
    "recipes = pd.read_json('full_format_recipes.json')"
   ]
  },
  {
   "cell_type": "code",
   "execution_count": 5,
   "metadata": {},
   "outputs": [
    {
     "name": "stdout",
     "output_type": "stream",
     "text": [
      "(20111, 11)\n"
     ]
    },
    {
     "data": {
      "text/plain": [
       "Index(['calories', 'categories', 'date', 'desc', 'directions', 'fat',\n",
       "       'ingredients', 'protein', 'rating', 'sodium', 'title'],\n",
       "      dtype='object')"
      ]
     },
     "execution_count": 5,
     "metadata": {},
     "output_type": "execute_result"
    }
   ],
   "source": [
    "# remove records with missing title\n",
    "# 19 recipes removed\n",
    "# recipes_final = recipes[recipes[\"ingredients\"].notnull()]\n",
    "recipes_final=recipes.dropna(subset=[\"title\"], inplace=False)\n",
    "recipes_final.reset_index(drop=True, inplace=True)\n",
    "print(recipes_final.shape)\n",
    "recipes_final.columns"
   ]
  },
  {
   "cell_type": "code",
   "execution_count": 6,
   "metadata": {},
   "outputs": [
    {
     "name": "stdout",
     "output_type": "stream",
     "text": [
      "(18295, 11)\n"
     ]
    },
    {
     "data": {
      "text/plain": [
       "Index(['calories', 'categories', 'date', 'desc', 'directions', 'fat',\n",
       "       'ingredients', 'protein', 'rating', 'sodium', 'title'],\n",
       "      dtype='object')"
      ]
     },
     "execution_count": 6,
     "metadata": {},
     "output_type": "execute_result"
    }
   ],
   "source": [
    "# remove duplicate recipes\n",
    "recipes_final=pd.DataFrame(recipes_final)\n",
    "#recipes_final.drop_duplicates(subset=\"title\", keep='first', inplace=True)\n",
    "recipes_final = recipes_final.iloc[recipes_final.astype(str).drop_duplicates().index]\n",
    "recipes_final.reset_index(drop=True, inplace=True)\n",
    "\n",
    "print(recipes_final.shape)\n",
    "recipes_final.columns"
   ]
  },
  {
   "cell_type": "code",
   "execution_count": 7,
   "metadata": {},
   "outputs": [],
   "source": [
    "# combine \"title\" and \"ingredients\" as one string variable\n",
    "recipes_final.iloc[:,6] = [str(ingrd) for ingrd in (recipes_final.iloc[:,6])]\n",
    "recipes_final.iloc[:,10] = [str(title) for title in (recipes_final.iloc[:,10])]\n",
    "\n",
    "recipes_final[\"titleingrd\"]=recipes_final[\"title\"]+recipes_final[\"ingredients\"]"
   ]
  },
  {
   "cell_type": "code",
   "execution_count": 8,
   "metadata": {},
   "outputs": [],
   "source": [
    "# Make sure the time format is correct\n",
    "# We will consider only hours and minutes in the time component\n",
    "recipes_final.date = recipes_final.date.dt.strftime('%m/%d/%Y %H:%M')"
   ]
  },
  {
   "cell_type": "code",
   "execution_count": 9,
   "metadata": {},
   "outputs": [],
   "source": [
    "# Apply the above function to preprocess ingredients\n",
    "recipes_final['ingredients_processed'] = recipes_final['titleingrd'].apply(lambda x:pre_process(x))"
   ]
  },
  {
   "cell_type": "code",
   "execution_count": 10,
   "metadata": {},
   "outputs": [
    {
     "data": {
      "text/plain": [
       "'boudin blanc terrine with red onion confit cups whipping cream medium onions chopped teaspoons salt bay leaves whole cloves large garlic clove crushed teaspoon pepper teaspoon ground nutmeg pinch of dried thyme crumbled large shallots minced tablespoon butter pound trimmed boneless center pork loin sinew removed cut into inch chunks well chilled eggs tablespoon all purpose flour cup tawny port tablespoons dried currants minced lettuce leaves cracked peppercorns minced fresh parsley bay leaves french bread baguette slices tablespoons olive oil large red onions halved sliced tablespoons dried currants tablespoons red wine vinegar tablespoons canned chicken broth teaspoons chopped fresh thyme or teaspoon dried crumbled teaspoon sugar '"
      ]
     },
     "execution_count": 10,
     "metadata": {},
     "output_type": "execute_result"
    }
   ],
   "source": [
    "recipes_final.columns\n",
    "recipes_final.iloc[1,12]"
   ]
  },
  {
   "cell_type": "code",
   "execution_count": 11,
   "metadata": {},
   "outputs": [],
   "source": [
    "# Define the sentence to be lemmatized\n",
    "sentence = recipes_final.iloc[:,12]\n",
    "\n",
    "# Perform lemmatization for each recipe (row)\n",
    "lemmatized_output = []\n",
    "for rcp in sentence:\n",
    "    word_list = nltk.word_tokenize(rcp)\n",
    "    lo = ' '.join([lemmatizer.lemmatize(w) for w in word_list])\n",
    "    lemmatized_output.append(lo)"
   ]
  },
  {
   "cell_type": "code",
   "execution_count": 12,
   "metadata": {},
   "outputs": [
    {
     "name": "stdout",
     "output_type": "stream",
     "text": [
      "before: yams braised with cream rosemary and nutmeg teaspoons olive oil cup finely chopped shallots teaspoons minced fresh rosemary pounds yams red skinned sweet potatoes peeled cut into inch thick rounds rounds cut in half cups canned low salt chicken broth cup whipping cream ground nutmeg \n",
      "after: yam braised with cream rosemary and nutmeg teaspoon olive oil cup finely chopped shallot teaspoon minced fresh rosemary pound yam red skinned sweet potato peeled cut into inch thick round round cut in half cup canned low salt chicken broth cup whipping cream ground nutmeg\n"
     ]
    }
   ],
   "source": [
    "# Checking lemmatization\n",
    "print(\"before:\",sentence[10])\n",
    "print(\"after:\",lemmatized_output[10])"
   ]
  },
  {
   "cell_type": "code",
   "execution_count": 13,
   "metadata": {},
   "outputs": [],
   "source": [
    "lem_out_wordlist = [nltk.word_tokenize(x) for x in lemmatized_output]"
   ]
  },
  {
   "cell_type": "code",
   "execution_count": 14,
   "metadata": {},
   "outputs": [],
   "source": [
    "# Create the word count vector ------------------------------------------------------\n",
    "# Here the stopwords are removed, and \n",
    "#ignore words that appear in 85% of documents and below 0.01%\n",
    "from sklearn.feature_extraction.text import TfidfVectorizer\n",
    "\n",
    "# cv=CountVectorizer(stop_words=stopwords,max_df=0.85,min_df= 0.0001)\n",
    "# word_count_vector=cv.fit_transform(lemmatized_output)\n",
    "\n",
    "TfidfVec = TfidfVectorizer(stop_words=stopwords,max_df=0.85,min_df= 0.0001,ngram_range=(1,2))\n",
    "word_count_vector = TfidfVec.fit_transform(lemmatized_output)\n",
    "\n",
    "# Convert to an array\n",
    "trainVectorizerArray = word_count_vector.toarray()"
   ]
  },
  {
   "cell_type": "code",
   "execution_count": 15,
   "metadata": {},
   "outputs": [],
   "source": [
    "# Subset columns to display\n",
    "recipes_list = recipes_final[[ 'title','date','rating','calories', 'ingredients', 'directions', 'fat',\n",
    "        'protein','sodium']]\n",
    "\n",
    "# Reset index name \n",
    "recipes_list = pd.concat([pd.DataFrame(list(recipes_list.index)),recipes_list], axis=1)\n",
    "\n",
    "# Rename the columns\n",
    "recipes_list.columns = [ 'row_num' ,'title','date','rating','calories', 'ingredients', 'directions', 'fat',\n",
    "        'protein','sodium']"
   ]
  },
  {
   "cell_type": "code",
   "execution_count": 16,
   "metadata": {},
   "outputs": [],
   "source": [
    "# Function to retrieve recipes using the cosine distance between them\n",
    "\n",
    "def getRecipe_cosine(query = \"\", sort = True):\n",
    "    \n",
    "    if query == \"\":\n",
    "        return(print('no match found '))\n",
    "    \n",
    "    # Define empty arrays\n",
    "    distance = [] # Distance between document\n",
    "    row_num = [] # Row number of the document \n",
    "    \n",
    "    # Pre-process query\n",
    "    query_processed = pre_process(str(query))    \n",
    "#     # Spell check the query\n",
    "#     spell = SpellChecker()\n",
    "#     misspelled = spell.unknown(query_processed)\n",
    "    \n",
    "#     corrected =\"\"\n",
    "#     spellcheck_query = \"\"\n",
    "    \n",
    "#     for word in misspelled:\n",
    "#         print(spell.correction(word))\n",
    "#         corrected=[spell.correction(word)]\n",
    "#         if len(corrected)==0:\n",
    "#             corrected.remove('non') \n",
    "#         #print(corrected)\n",
    "\n",
    "#         spellcheck_query = str(query_processed) + str(corrected)\n",
    "\n",
    "        \n",
    "    # Lemmatize the query\n",
    "    query_wlist = nltk.word_tokenize(query_processed)\n",
    "    lemmatized_query = ' '.join([lemmatizer.lemmatize(w) for w in query_wlist])\n",
    "    \n",
    "    # Vectorize the words and convert to an array\n",
    "    testVectorizerArray = TfidfVec.transform([lemmatized_query]).toarray()\n",
    "    \n",
    "    for x in range(len(trainVectorizerArray)):\n",
    "        vector = trainVectorizerArray[x]\n",
    "        for testV in testVectorizerArray:\n",
    "            cosine = cx(vector, testV)\n",
    "            if cosine > 0:\n",
    "                distance.append(cosine)\n",
    "                row_num.append(x)\n",
    "    \n",
    "    \n",
    "    # Concatenate the columns into a dataframe\n",
    "    matches = pd.concat([pd.DataFrame(distance),pd.DataFrame(row_num)],axis = 1)\n",
    "    if matches.empty:\n",
    "        return(print(\" No Recipes with \"+ query))\n",
    "# Provide descriptive the column names\n",
    "    matches.columns = ['similarity_val','row_num']\n",
    "# Sort by the highest similarity value\n",
    "    matches = matches.sort_values(by=['similarity_val'],ascending=False)\n",
    "    print(matches.shape[0], \"recipes matched\")\n",
    "    \n",
    "    # Save the top 10 in a dataframe\n",
    "    results = pd.DataFrame(recipes_list.iloc[matches.row_num[:10],:])\n",
    "    results_score = pd.merge(results,matches[:10], how = 'left', on = 'row_num')\n",
    "    \n",
    "    if(sort):\n",
    "        # Sort by time\n",
    "        results = results.sort_values(by = ['date'], ascending=False)\n",
    "        # sort my ratings\n",
    "        results = results.sort_values(by = ['rating'], ascending=False)\n",
    "    else:\n",
    "        results = pd.DataFrame(recipes_list.iloc[matches.row_num[0:10],:])\n",
    "        results_score = pd.merge(results,matches[0:10], how = 'left', on = 'row_num')\n",
    "        #results_score = results_score.sort_values(by = ['similarity_val'],ascending=False)\n",
    "        #results.to_excel('query_results_co.xlsx')\n",
    "        \n",
    "    #Return the dataset\n",
    "    if query != '':\n",
    "        return(results_score)"
   ]
  },
  {
   "cell_type": "markdown",
   "metadata": {},
   "source": [
    "# Recipe Search"
   ]
  },
  {
   "cell_type": "code",
   "execution_count": 17,
   "metadata": {},
   "outputs": [],
   "source": [
    "# To display full text\n",
    "pd.set_option('display.max_colwidth', -1)"
   ]
  },
  {
   "cell_type": "code",
   "execution_count": 21,
   "metadata": {},
   "outputs": [
    {
     "name": "stdout",
     "output_type": "stream",
     "text": [
      "Enter your ingredients search here  fish, chilli and pasta\n"
     ]
    }
   ],
   "source": [
    "# Try the retrieval for a few test queries\n",
    "query = input(\"Enter your ingredients search here  \")"
   ]
  },
  {
   "cell_type": "code",
   "execution_count": 22,
   "metadata": {
    "scrolled": false
   },
   "outputs": [
    {
     "name": "stdout",
     "output_type": "stream",
     "text": [
      "960 recipes matched\n",
      "Wall time: 3.24 s\n"
     ]
    },
    {
     "data": {
      "text/html": [
       "<div>\n",
       "<style scoped>\n",
       "    .dataframe tbody tr th:only-of-type {\n",
       "        vertical-align: middle;\n",
       "    }\n",
       "\n",
       "    .dataframe tbody tr th {\n",
       "        vertical-align: top;\n",
       "    }\n",
       "\n",
       "    .dataframe thead th {\n",
       "        text-align: right;\n",
       "    }\n",
       "</style>\n",
       "<table border=\"1\" class=\"dataframe\">\n",
       "  <thead>\n",
       "    <tr style=\"text-align: right;\">\n",
       "      <th></th>\n",
       "      <th>row_num</th>\n",
       "      <th>title</th>\n",
       "      <th>date</th>\n",
       "      <th>rating</th>\n",
       "      <th>calories</th>\n",
       "      <th>ingredients</th>\n",
       "      <th>directions</th>\n",
       "      <th>fat</th>\n",
       "      <th>protein</th>\n",
       "      <th>sodium</th>\n",
       "      <th>similarity_val</th>\n",
       "    </tr>\n",
       "  </thead>\n",
       "  <tbody>\n",
       "    <tr>\n",
       "      <th>0</th>\n",
       "      <td>4595</td>\n",
       "      <td>Chilli Oil</td>\n",
       "      <td>03/14/2014 04:00</td>\n",
       "      <td>0.000</td>\n",
       "      <td>411.0</td>\n",
       "      <td>['600ml (1 pint) rapeseed oil', '1 large red chilli, split in half', '1 lemon grass stalk', '1 garlic clove', '20g (3/4oz) root ginger, sliced but not peeled']</td>\n",
       "      <td>[Gently warm the oil through in a heavy-based pan but do not allow it to boil. Bring to a gentle simmer, then add the chilli, lemon grass, garlic and ginger. Continue to simmer very gently for 20–30 minutes, until the flavours are well infused. It's important not to allow it to boil at any stage. Pour into a squeezy bottle, leaving the bits in, as the flavours will continue to infuse. Use as required.]</td>\n",
       "      <td>46.0</td>\n",
       "      <td>0.0</td>\n",
       "      <td>1.0</td>\n",
       "      <td>0.427</td>\n",
       "    </tr>\n",
       "    <tr>\n",
       "      <th>1</th>\n",
       "      <td>15244</td>\n",
       "      <td>Sweet Potato and Coconut Soup</td>\n",
       "      <td>03/14/2014 04:00</td>\n",
       "      <td>4.375</td>\n",
       "      <td>NaN</td>\n",
       "      <td>['450g (1lb) sweet potatoes, cut into cubes', '2 tbsp sunflower oil', '1 onion, finely chopped', '1 leek, trimmed and finely chopped', '1 lemon grass stalk, trimmed and halved', '1 red chilli, halved, seeded and thinly sliced', '1 tsp freshly grated root ginger', '1.25 litres (2 1/4 pints) vegetable stock', '4 tsp tomato purée', '400g can coconut milk', 'sea salt and freshly ground black pepper', 'chilli oil , to garnish', 'fresh micro coriander, to garnish']</td>\n",
       "      <td>[Preheat the oven to 200°C (400°F/gas mark 6)., Place the sweet potatoes in a baking tin, drizzle over 1 tablespoon of the sunflower oil and roast for 20–30 minutes, until tender. Set aside., Heat the remaining 1 tablespoon of oil in a pan over a medium heat. Add the onion, leek, lemon grass, half the chilli and the ginger and sweat for 4 minutes, stirring occasionally. Add the roasted sweet potato with the stock and tomato purée, then bring to the boil. Reduce the heat and simmer for 10 minutes, until the liquid has slightly reduced and all the vegetables are completely tender., Pour the coconut milk into the pan, reserving about 3 tablespoons from the top of the can as a garnish, and cook for another 5 minutes, stirring constantly. Season to taste. Remove the lemon grass and then blend with a hand blender until smooth., To serve, ladle the soup into warmed bowls and swirl in the reserved coconut milk. Add a drizzle of the chilli oil, then sprinkle over the reserved chilli slices and micro coriander.]</td>\n",
       "      <td>NaN</td>\n",
       "      <td>NaN</td>\n",
       "      <td>NaN</td>\n",
       "      <td>0.286</td>\n",
       "    </tr>\n",
       "    <tr>\n",
       "      <th>2</th>\n",
       "      <td>3401</td>\n",
       "      <td>Quince Sambal</td>\n",
       "      <td>05/16/2006 20:12</td>\n",
       "      <td>2.500</td>\n",
       "      <td>NaN</td>\n",
       "      <td>['1 ripe quince', 'salt', '1 small onion, grated', '2 ml (1/2 teaspoon) crushed garlic', '1 small red or green chilli, sliced, seeded and finely chopped', '30 ml (2 tablespoons) sugar', '30 ml (2 tablespoons) lemon juice']</td>\n",
       "      <td>[Peel and core the quince, and grate coarsely or slice into the finest slivers. Pile in a bowl, sprinkle with salt and set aside for 1-2 hours. Rinse under cold running water, drain well, and dry thoroughly with a clean tea towel. Mix with the remaining ingredients, cover and chill until required.]</td>\n",
       "      <td>NaN</td>\n",
       "      <td>NaN</td>\n",
       "      <td>NaN</td>\n",
       "      <td>0.268</td>\n",
       "    </tr>\n",
       "    <tr>\n",
       "      <th>3</th>\n",
       "      <td>13461</td>\n",
       "      <td>Dukkah-Crusted Salmon With Cucumber and Chilli Salad</td>\n",
       "      <td>09/01/2016 19:14</td>\n",
       "      <td>1.875</td>\n",
       "      <td>NaN</td>\n",
       "      <td>['1 1/2 cups (75g) puffed amaranth', '2 tablespoons store-bought dukkah', '1 teaspoon sea salt flakes', '4 (200g) salmon fillets, skin removed', '2 eggs, lightly beaten', '2 tablespoons extra-virgin olive oil', '1 long green chilli, thinly sliced', '1/4 cup (60ml) extra virgin olive oil, plus more', '1/4 cup (60ml) lime juice', '1 clove garlic, crushed', '2 tablespoons chopped cilantro', 'Sea salt and cracked black pepper', '4 cups (50g) snow pea tendrils', '2 Lebanese cucumbers (260g), thinly sliced', 'Chervil sprigs, to serve']</td>\n",
       "      <td>[Place the amaranth, dukkah and salt on a small tray and toss to combine. Dip each salmon fillet in the egg and press into the dukkah mixture to coat. Heat the oil in a large non-stick frying pan over medium heat. Cook the salmon, turning every 3–4 minutes, for 10–12 minutes or until just cooked through and the crumb is golden. Place the chilli, extra oil, lime juice, garlic, cilantro, salt and pepper in a medium bowl and whisk to combine. Add the snow pea tendrils and cucumber and toss to coat. Divide the salmon and salad between serving plates and top with chervil to serve.]</td>\n",
       "      <td>NaN</td>\n",
       "      <td>NaN</td>\n",
       "      <td>NaN</td>\n",
       "      <td>0.242</td>\n",
       "    </tr>\n",
       "    <tr>\n",
       "      <th>4</th>\n",
       "      <td>9153</td>\n",
       "      <td>Fish Stock</td>\n",
       "      <td>10/12/2011 04:00</td>\n",
       "      <td>0.000</td>\n",
       "      <td>22.0</td>\n",
       "      <td>['5 tsp olive oil', '14 oz crabs', '3 3/4 lb fish', '1 gallon water']</td>\n",
       "      <td>[Put a large pot over medium heat, then add the olive oil. Add the crabs. Cook for 3-5 minutes. Add the fish. Pour in the water and bring to a simmer. Skim the foam from the surface. Simmer for 20 minutes, then strain through a fine-mesh sieve. Cool before putting into containers.]</td>\n",
       "      <td>1.0</td>\n",
       "      <td>4.0</td>\n",
       "      <td>53.0</td>\n",
       "      <td>0.199</td>\n",
       "    </tr>\n",
       "    <tr>\n",
       "      <th>5</th>\n",
       "      <td>14523</td>\n",
       "      <td>Crab Fritters with Spicy Lime Sauce</td>\n",
       "      <td>08/20/2004 04:00</td>\n",
       "      <td>3.750</td>\n",
       "      <td>311.0</td>\n",
       "      <td>['1/2 cup fresh lime juice', '6 tablespoons fish sauce (nam pla)', '1/4 cup pure maple syrup', '3 jalapeño chillies, seeded, chopped', '2 garlic cloves, chopped', '1/4 cup mayonnaise', '1 tablespoon Dijon mustard', '1/2 teaspoon grated lemon peel', '8 ounces fresh crabmeat, drained', '2 grapefruits', '2 oranges', '1 1/2 cupspanko (japanese breadcrumbs)', '2 firm but ripe avocados, halved, pitted, peeled, sliced', '2 tablespoons chopped fresh cilantro', '2 tablespoons chopped fresh chives']</td>\n",
       "      <td>[Mix all ingredients in large bowl to blend. Cover and chill at least 1 hour or overnight to develop flavors., Mix mayonnaise, mustard, lemon peel and hot pepper sauce in medium bowl to blend. Mix in crabmeat. Season to taste with salt and pepper. Shape crab mixture into six 2 1/4-inch-diameter patties, using 1/4 cup mixture for each. Place fritters on baking sheet. Cover and refrigerate at least 3 hours., Cut all peel and white pith from grapefruits. Using small sharp knife, cut between membranes to release segments. Repeat with oranges. Chill segments until ready to serve., Place panko in shallow dish. Cost each fritter with panko, pressing to adhere. Pour oil into heavy large skillet to depth of 1/2 inch and heat to 350°F. Cook fritters in batches until brown and heated through, about 2 minutes per side. Drain fritters on paper towels., Fan avocado slices and grapefruit and orange segments on plates. Drizzle 1 tablespoon sauce over each plate. Top each with 1 fritter. Sprinkle cilantro and chives over and serve.]</td>\n",
       "      <td>18.0</td>\n",
       "      <td>10.0</td>\n",
       "      <td>1717.0</td>\n",
       "      <td>0.197</td>\n",
       "    </tr>\n",
       "    <tr>\n",
       "      <th>6</th>\n",
       "      <td>706</td>\n",
       "      <td>Blatjang</td>\n",
       "      <td>05/16/2006 20:12</td>\n",
       "      <td>5.000</td>\n",
       "      <td>342.0</td>\n",
       "      <td>['250 g (8 ounces) dried apricots, chopped', '250 g (8 ounces) seedless raisins', '3 litres (12 cups) grape (wine or cider) vinegar', '4 large onions, finely chopped', '4 cloves garlic, crushed', '500 g (1 pound) brown sugar', '200 g (6 1/2 ounces) flaked almonds', '30 ml (2 tablespoons) salt', '45 ml (3 tablespoons) ground ginger', '30 ml (2 tablespoons) ground coriander', '30 ml (2 tablespoons) mustard seeds', '10 ml (2 teaspoons) chilli powder']</td>\n",
       "      <td>[Combine the apricots, raisins and vinegar in a 5-litre (5-quart) saucepan. Soak overnight to plump the fruit. Alternatively, if time is tight, simply cover, bring to the boil and set aside for about 2 hours., Add the remaining ingredients, and cook uncovered over medium heat, stirring occasionally at first, then constantly towards the end of the cooking time, until the chutney has reduced to about one-third, and is beautifully thick. It should take 1 1/2-2 hours. To know when it is ready for bottling, test the consistency by putting a little in the freezer to cool. Pour into hot, sterilized jars, seal and store in a cool, dark cupboard.]</td>\n",
       "      <td>6.0</td>\n",
       "      <td>5.0</td>\n",
       "      <td>437.0</td>\n",
       "      <td>0.186</td>\n",
       "    </tr>\n",
       "    <tr>\n",
       "      <th>7</th>\n",
       "      <td>3400</td>\n",
       "      <td>Lobster Curry</td>\n",
       "      <td>05/16/2006 20:12</td>\n",
       "      <td>5.000</td>\n",
       "      <td>NaN</td>\n",
       "      <td>['4 lobsters', '250 ml (1 cup) Fish Stock', 'vegetable oil', '12 pickling onions, peeled', '10 ml (2 teaspoons) crushed garlic', '1-2 fresh chillies, finely sliced and seeded', '4-5 curry leaves', '5 ml (1 teaspoon) ground cumin', '5 ml (1 teaspoon) ground coriander', '2 ml (1/2 teaspoon) turmeric', '1 ml (1/4 teaspoon) ground cardamom', '1 stick cinnamon', '4 large, ripe tomatoes blanched, skinned, and chopped', 'lemon juice', 'salt, milled black pepper', '60 ml (1/4 cup) plain yoghurt (optional)']</td>\n",
       "      <td>[Kill the lobsters by plunging the tip of a large sharp knife straight down behind the lobsters' eyes. Separate tails from bodies. Wash well. Cut off fanned tail shells; set aside. Pull out the alimentary canal. Slice tails through lengthwise (first snip through the under-shell with scissors)., Bring the fish stock to the boil in a large saucepan, add lobster bodies and tail fans and boil for 6 minutes (no longer or you will overcook the legs). Remove from the pot. Pull off legs and claws, cover and set aside with the tail fans (they will later decorate the completed dish). Strain and retain the stock for the sauce., Heat a little oil in a large saucepan and lightly cook the lobster tail pieces for about 1 minute. Set aside., Lightly brown the onions and garlic in the same pot (add extra oil if necessary), then add the chilli, curry leaves, cumin, coriander, turmeric, cardamom and cinnamon. Sizzle the spices for about 30 seconds, then add the chopped tomato, lemon juice, stock and a little salt and pepper. Cover and simmer for about 10 minutes., Just before serving return the lobster to the sauce and simmer for 2-3 minutes until cooked. Add the yoghurt and heat through. Tip into a warm bowl, or serve directly from the pan. Garnish with the reserved tail fans and legs, and serve with Yellow Rice and Quince Sambal.]</td>\n",
       "      <td>NaN</td>\n",
       "      <td>NaN</td>\n",
       "      <td>NaN</td>\n",
       "      <td>0.182</td>\n",
       "    </tr>\n",
       "    <tr>\n",
       "      <th>8</th>\n",
       "      <td>11571</td>\n",
       "      <td>Vegetable Patch Pasta Salad</td>\n",
       "      <td>08/20/2004 04:00</td>\n",
       "      <td>3.125</td>\n",
       "      <td>359.0</td>\n",
       "      <td>['1 cup (about 4 ounces) small pasta shells or orzo (rice-shaped pasta)', '1 large lemon', '2 tablespoons olive oil', '1 carrot, grated', '4 radishes, trimmed, thinly sliced', '1/3 cup chopped fresh chives or green onions']</td>\n",
       "      <td>[Cook pasta in medium pot of boiling salted water until just tender but still firm to bite. Drain pasta; rinse under cold water and drain well., Grate enough lemon peel to measure 1/2 teaspoon. Squeeze enough juice from lemon to measure 1 1/2 tablespoons. Place lemon peel and juice in medium bowl. Whisk in oil. Mix in carrot, radishes and chives, then pasta. Season to taste with salt and pepper. Let stand 10 minutes to blend flavors.]</td>\n",
       "      <td>15.0</td>\n",
       "      <td>9.0</td>\n",
       "      <td>35.0</td>\n",
       "      <td>0.179</td>\n",
       "    </tr>\n",
       "    <tr>\n",
       "      <th>9</th>\n",
       "      <td>11578</td>\n",
       "      <td>Three Dipping Sauces</td>\n",
       "      <td>08/20/2004 04:00</td>\n",
       "      <td>0.000</td>\n",
       "      <td>162.0</td>\n",
       "      <td>['50 ml (3 tablespoons plus 1 teaspoon) peanut oil', '2 dried chillies', '3 spring onions (scallions), white part, with 2 cm (3/4-inch) of green left on, finely sliced', '1 large knob ginger, finely diced', '2 cloves garlic', '15 ml (1 tablespoon) shaohsing wine', '15 ml (1 tablespoon) rice-wine vinegar', '2 tablespoons sea salt', '2 tablespoons superfine sugar', '100 ml (1/2 cup) Chinese black rice vinegar', '2 large knobs ginger, finely diced', '30 ml (2 tablespoons) peanut oil', '4 spring onions (scallions), sliced into rounds', '2 large knobs ginger, finely diced', '3 cloves garlic, finely diced', '2 red chillies, sliced', '60 ml (1/4 cup) bean paste', '60 ml (1/4 cup) shaohsing wine', '60 ml (1/4 cup) rice-wine vinegar', '4 tablespoons (1/4 cup) crushed yellow rock (or light brown) sugar']</td>\n",
       "      <td>[Heat the peanut oil in a wok and fry the chillies until they blacken. Discard the chillies and allow the oil to cool. In a mortar and pestle crush all the other ingredients lightly. As the oil cools add to the mortar and mix well. Leave for a little while to allow the flavours to marry., Very good on boiled and fried dishes, and a great dressing for grilled scallop salad., Mix the diced ginger with the vinegar and allow to stand for 1 hour before serving., You'll find this easy to make but very effective on boiled meats., In a wok, heat up the peanut oil and fry the spring onions, ginger, garlic and chillies for 3 minutes. Add all the other ingredients and reduce the sauce by half. Remove from the heat and cool., Can be used as a cold dipping sauce or heated up and tossed with steamed vegetables.]</td>\n",
       "      <td>10.0</td>\n",
       "      <td>2.0</td>\n",
       "      <td>1763.0</td>\n",
       "      <td>0.179</td>\n",
       "    </tr>\n",
       "  </tbody>\n",
       "</table>\n",
       "</div>"
      ],
      "text/plain": [
       "   row_num                                                  title  \\\n",
       "0  4595     Chilli Oil                                              \n",
       "1  15244    Sweet Potato and Coconut Soup                           \n",
       "2  3401     Quince Sambal                                           \n",
       "3  13461    Dukkah-Crusted Salmon With Cucumber and Chilli Salad    \n",
       "4  9153     Fish Stock                                              \n",
       "5  14523    Crab Fritters with Spicy Lime Sauce                     \n",
       "6  706      Blatjang                                                \n",
       "7  3400     Lobster Curry                                           \n",
       "8  11571    Vegetable Patch Pasta Salad                             \n",
       "9  11578    Three Dipping Sauces                                    \n",
       "\n",
       "               date  rating  calories  \\\n",
       "0  03/14/2014 04:00  0.000   411.0      \n",
       "1  03/14/2014 04:00  4.375  NaN         \n",
       "2  05/16/2006 20:12  2.500  NaN         \n",
       "3  09/01/2016 19:14  1.875  NaN         \n",
       "4  10/12/2011 04:00  0.000   22.0       \n",
       "5  08/20/2004 04:00  3.750   311.0      \n",
       "6  05/16/2006 20:12  5.000   342.0      \n",
       "7  05/16/2006 20:12  5.000  NaN         \n",
       "8  08/20/2004 04:00  3.125   359.0      \n",
       "9  08/20/2004 04:00  0.000   162.0      \n",
       "\n",
       "                                                                                                                                                                                                                                                                                                                                                                                                                                                                                                                                                                                                                                                                                                                                                                                                                             ingredients  \\\n",
       "0  ['600ml (1 pint) rapeseed oil', '1 large red chilli, split in half', '1 lemon grass stalk', '1 garlic clove', '20g (3/4oz) root ginger, sliced but not peeled']                                                                                                                                                                                                                                                                                                                                                                                                                                                                                                                                                                                                                                                                         \n",
       "1  ['450g (1lb) sweet potatoes, cut into cubes', '2 tbsp sunflower oil', '1 onion, finely chopped', '1 leek, trimmed and finely chopped', '1 lemon grass stalk, trimmed and halved', '1 red chilli, halved, seeded and thinly sliced', '1 tsp freshly grated root ginger', '1.25 litres (2 1/4 pints) vegetable stock', '4 tsp tomato purée', '400g can coconut milk', 'sea salt and freshly ground black pepper', 'chilli oil , to garnish', 'fresh micro coriander, to garnish']                                                                                                                                                                                                                                                                                                                                                         \n",
       "2  ['1 ripe quince', 'salt', '1 small onion, grated', '2 ml (1/2 teaspoon) crushed garlic', '1 small red or green chilli, sliced, seeded and finely chopped', '30 ml (2 tablespoons) sugar', '30 ml (2 tablespoons) lemon juice']                                                                                                                                                                                                                                                                                                                                                                                                                                                                                                                                                                                                          \n",
       "3  ['1 1/2 cups (75g) puffed amaranth', '2 tablespoons store-bought dukkah', '1 teaspoon sea salt flakes', '4 (200g) salmon fillets, skin removed', '2 eggs, lightly beaten', '2 tablespoons extra-virgin olive oil', '1 long green chilli, thinly sliced', '1/4 cup (60ml) extra virgin olive oil, plus more', '1/4 cup (60ml) lime juice', '1 clove garlic, crushed', '2 tablespoons chopped cilantro', 'Sea salt and cracked black pepper', '4 cups (50g) snow pea tendrils', '2 Lebanese cucumbers (260g), thinly sliced', 'Chervil sprigs, to serve']                                                                                                                                                                                                                                                                                 \n",
       "4  ['5 tsp olive oil', '14 oz crabs', '3 3/4 lb fish', '1 gallon water']                                                                                                                                                                                                                                                                                                                                                                                                                                                                                                                                                                                                                                                                                                                                                                   \n",
       "5  ['1/2 cup fresh lime juice', '6 tablespoons fish sauce (nam pla)', '1/4 cup pure maple syrup', '3 jalapeño chillies, seeded, chopped', '2 garlic cloves, chopped', '1/4 cup mayonnaise', '1 tablespoon Dijon mustard', '1/2 teaspoon grated lemon peel', '8 ounces fresh crabmeat, drained', '2 grapefruits', '2 oranges', '1 1/2 cupspanko (japanese breadcrumbs)', '2 firm but ripe avocados, halved, pitted, peeled, sliced', '2 tablespoons chopped fresh cilantro', '2 tablespoons chopped fresh chives']                                                                                                                                                                                                                                                                                                                          \n",
       "6  ['250 g (8 ounces) dried apricots, chopped', '250 g (8 ounces) seedless raisins', '3 litres (12 cups) grape (wine or cider) vinegar', '4 large onions, finely chopped', '4 cloves garlic, crushed', '500 g (1 pound) brown sugar', '200 g (6 1/2 ounces) flaked almonds', '30 ml (2 tablespoons) salt', '45 ml (3 tablespoons) ground ginger', '30 ml (2 tablespoons) ground coriander', '30 ml (2 tablespoons) mustard seeds', '10 ml (2 teaspoons) chilli powder']                                                                                                                                                                                                                                                                                                                                                                    \n",
       "7  ['4 lobsters', '250 ml (1 cup) Fish Stock', 'vegetable oil', '12 pickling onions, peeled', '10 ml (2 teaspoons) crushed garlic', '1-2 fresh chillies, finely sliced and seeded', '4-5 curry leaves', '5 ml (1 teaspoon) ground cumin', '5 ml (1 teaspoon) ground coriander', '2 ml (1/2 teaspoon) turmeric', '1 ml (1/4 teaspoon) ground cardamom', '1 stick cinnamon', '4 large, ripe tomatoes blanched, skinned, and chopped', 'lemon juice', 'salt, milled black pepper', '60 ml (1/4 cup) plain yoghurt (optional)']                                                                                                                                                                                                                                                                                                                \n",
       "8  ['1 cup (about 4 ounces) small pasta shells or orzo (rice-shaped pasta)', '1 large lemon', '2 tablespoons olive oil', '1 carrot, grated', '4 radishes, trimmed, thinly sliced', '1/3 cup chopped fresh chives or green onions']                                                                                                                                                                                                                                                                                                                                                                                                                                                                                                                                                                                                         \n",
       "9  ['50 ml (3 tablespoons plus 1 teaspoon) peanut oil', '2 dried chillies', '3 spring onions (scallions), white part, with 2 cm (3/4-inch) of green left on, finely sliced', '1 large knob ginger, finely diced', '2 cloves garlic', '15 ml (1 tablespoon) shaohsing wine', '15 ml (1 tablespoon) rice-wine vinegar', '2 tablespoons sea salt', '2 tablespoons superfine sugar', '100 ml (1/2 cup) Chinese black rice vinegar', '2 large knobs ginger, finely diced', '30 ml (2 tablespoons) peanut oil', '4 spring onions (scallions), sliced into rounds', '2 large knobs ginger, finely diced', '3 cloves garlic, finely diced', '2 red chillies, sliced', '60 ml (1/4 cup) bean paste', '60 ml (1/4 cup) shaohsing wine', '60 ml (1/4 cup) rice-wine vinegar', '4 tablespoons (1/4 cup) crushed yellow rock (or light brown) sugar']   \n",
       "\n",
       "                                                                                                                                                                                                                                                                                                                                                                                                                                                                                                                                                                                                                                                                                                                                                                                                                                                                                                                                                                                                                                                                                                                                                                                                                                                                                                                                                                                directions  \\\n",
       "0  [Gently warm the oil through in a heavy-based pan but do not allow it to boil. Bring to a gentle simmer, then add the chilli, lemon grass, garlic and ginger. Continue to simmer very gently for 20–30 minutes, until the flavours are well infused. It's important not to allow it to boil at any stage. Pour into a squeezy bottle, leaving the bits in, as the flavours will continue to infuse. Use as required.]                                                                                                                                                                                                                                                                                                                                                                                                                                                                                                                                                                                                                                                                                                                                                                                                                                                                                                                                                                     \n",
       "1  [Preheat the oven to 200°C (400°F/gas mark 6)., Place the sweet potatoes in a baking tin, drizzle over 1 tablespoon of the sunflower oil and roast for 20–30 minutes, until tender. Set aside., Heat the remaining 1 tablespoon of oil in a pan over a medium heat. Add the onion, leek, lemon grass, half the chilli and the ginger and sweat for 4 minutes, stirring occasionally. Add the roasted sweet potato with the stock and tomato purée, then bring to the boil. Reduce the heat and simmer for 10 minutes, until the liquid has slightly reduced and all the vegetables are completely tender., Pour the coconut milk into the pan, reserving about 3 tablespoons from the top of the can as a garnish, and cook for another 5 minutes, stirring constantly. Season to taste. Remove the lemon grass and then blend with a hand blender until smooth., To serve, ladle the soup into warmed bowls and swirl in the reserved coconut milk. Add a drizzle of the chilli oil, then sprinkle over the reserved chilli slices and micro coriander.]                                                                                                                                                                                                                                                                                                                                 \n",
       "2  [Peel and core the quince, and grate coarsely or slice into the finest slivers. Pile in a bowl, sprinkle with salt and set aside for 1-2 hours. Rinse under cold running water, drain well, and dry thoroughly with a clean tea towel. Mix with the remaining ingredients, cover and chill until required.]                                                                                                                                                                                                                                                                                                                                                                                                                                                                                                                                                                                                                                                                                                                                                                                                                                                                                                                                                                                                                                                                               \n",
       "3  [Place the amaranth, dukkah and salt on a small tray and toss to combine. Dip each salmon fillet in the egg and press into the dukkah mixture to coat. Heat the oil in a large non-stick frying pan over medium heat. Cook the salmon, turning every 3–4 minutes, for 10–12 minutes or until just cooked through and the crumb is golden. Place the chilli, extra oil, lime juice, garlic, cilantro, salt and pepper in a medium bowl and whisk to combine. Add the snow pea tendrils and cucumber and toss to coat. Divide the salmon and salad between serving plates and top with chervil to serve.]                                                                                                                                                                                                                                                                                                                                                                                                                                                                                                                                                                                                                                                                                                                                                                                   \n",
       "4  [Put a large pot over medium heat, then add the olive oil. Add the crabs. Cook for 3-5 minutes. Add the fish. Pour in the water and bring to a simmer. Skim the foam from the surface. Simmer for 20 minutes, then strain through a fine-mesh sieve. Cool before putting into containers.]                                                                                                                                                                                                                                                                                                                                                                                                                                                                                                                                                                                                                                                                                                                                                                                                                                                                                                                                                                                                                                                                                                \n",
       "5  [Mix all ingredients in large bowl to blend. Cover and chill at least 1 hour or overnight to develop flavors., Mix mayonnaise, mustard, lemon peel and hot pepper sauce in medium bowl to blend. Mix in crabmeat. Season to taste with salt and pepper. Shape crab mixture into six 2 1/4-inch-diameter patties, using 1/4 cup mixture for each. Place fritters on baking sheet. Cover and refrigerate at least 3 hours., Cut all peel and white pith from grapefruits. Using small sharp knife, cut between membranes to release segments. Repeat with oranges. Chill segments until ready to serve., Place panko in shallow dish. Cost each fritter with panko, pressing to adhere. Pour oil into heavy large skillet to depth of 1/2 inch and heat to 350°F. Cook fritters in batches until brown and heated through, about 2 minutes per side. Drain fritters on paper towels., Fan avocado slices and grapefruit and orange segments on plates. Drizzle 1 tablespoon sauce over each plate. Top each with 1 fritter. Sprinkle cilantro and chives over and serve.]                                                                                                                                                                                                                                                                                                                   \n",
       "6  [Combine the apricots, raisins and vinegar in a 5-litre (5-quart) saucepan. Soak overnight to plump the fruit. Alternatively, if time is tight, simply cover, bring to the boil and set aside for about 2 hours., Add the remaining ingredients, and cook uncovered over medium heat, stirring occasionally at first, then constantly towards the end of the cooking time, until the chutney has reduced to about one-third, and is beautifully thick. It should take 1 1/2-2 hours. To know when it is ready for bottling, test the consistency by putting a little in the freezer to cool. Pour into hot, sterilized jars, seal and store in a cool, dark cupboard.]                                                                                                                                                                                                                                                                                                                                                                                                                                                                                                                                                                                                                                                                                                                    \n",
       "7  [Kill the lobsters by plunging the tip of a large sharp knife straight down behind the lobsters' eyes. Separate tails from bodies. Wash well. Cut off fanned tail shells; set aside. Pull out the alimentary canal. Slice tails through lengthwise (first snip through the under-shell with scissors)., Bring the fish stock to the boil in a large saucepan, add lobster bodies and tail fans and boil for 6 minutes (no longer or you will overcook the legs). Remove from the pot. Pull off legs and claws, cover and set aside with the tail fans (they will later decorate the completed dish). Strain and retain the stock for the sauce., Heat a little oil in a large saucepan and lightly cook the lobster tail pieces for about 1 minute. Set aside., Lightly brown the onions and garlic in the same pot (add extra oil if necessary), then add the chilli, curry leaves, cumin, coriander, turmeric, cardamom and cinnamon. Sizzle the spices for about 30 seconds, then add the chopped tomato, lemon juice, stock and a little salt and pepper. Cover and simmer for about 10 minutes., Just before serving return the lobster to the sauce and simmer for 2-3 minutes until cooked. Add the yoghurt and heat through. Tip into a warm bowl, or serve directly from the pan. Garnish with the reserved tail fans and legs, and serve with Yellow Rice and Quince Sambal.]   \n",
       "8  [Cook pasta in medium pot of boiling salted water until just tender but still firm to bite. Drain pasta; rinse under cold water and drain well., Grate enough lemon peel to measure 1/2 teaspoon. Squeeze enough juice from lemon to measure 1 1/2 tablespoons. Place lemon peel and juice in medium bowl. Whisk in oil. Mix in carrot, radishes and chives, then pasta. Season to taste with salt and pepper. Let stand 10 minutes to blend flavors.]                                                                                                                                                                                                                                                                                                                                                                                                                                                                                                                                                                                                                                                                                                                                                                                                                                                                                                                                    \n",
       "9  [Heat the peanut oil in a wok and fry the chillies until they blacken. Discard the chillies and allow the oil to cool. In a mortar and pestle crush all the other ingredients lightly. As the oil cools add to the mortar and mix well. Leave for a little while to allow the flavours to marry., Very good on boiled and fried dishes, and a great dressing for grilled scallop salad., Mix the diced ginger with the vinegar and allow to stand for 1 hour before serving., You'll find this easy to make but very effective on boiled meats., In a wok, heat up the peanut oil and fry the spring onions, ginger, garlic and chillies for 3 minutes. Add all the other ingredients and reduce the sauce by half. Remove from the heat and cool., Can be used as a cold dipping sauce or heated up and tossed with steamed vegetables.]                                                                                                                                                                                                                                                                                                                                                                                                                                                                                                                                                 \n",
       "\n",
       "    fat  protein  sodium  similarity_val  \n",
       "0  46.0  0.0      1.0     0.427           \n",
       "1 NaN   NaN      NaN      0.286           \n",
       "2 NaN   NaN      NaN      0.268           \n",
       "3 NaN   NaN      NaN      0.242           \n",
       "4  1.0   4.0      53.0    0.199           \n",
       "5  18.0  10.0     1717.0  0.197           \n",
       "6  6.0   5.0      437.0   0.186           \n",
       "7 NaN   NaN      NaN      0.182           \n",
       "8  15.0  9.0      35.0    0.179           \n",
       "9  10.0  2.0      1763.0  0.179           "
      ]
     },
     "execution_count": 22,
     "metadata": {},
     "output_type": "execute_result"
    }
   ],
   "source": [
    "%%time\n",
    "getRecipe_cosine(query,sort = False)"
   ]
  },
  {
   "cell_type": "markdown",
   "metadata": {},
   "source": [
    "# Evaluation of Document Retrieval "
   ]
  },
  {
   "cell_type": "markdown",
   "metadata": {},
   "source": [
    "### Precision & Recall"
   ]
  },
  {
   "cell_type": "markdown",
   "metadata": {},
   "source": [
    "Precision measures \"of all the documents we retrieved as relevant how many are actually relevant?\"\n",
    "Recall measures \"Of all the actual relevant documents how many did we retrieve as relevant?\"\n",
    "F-Score / F-measure is the weighted harmonic mean of precision and recall. The traditional F-measure or balanced F-score is:"
   ]
  },
  {
   "cell_type": "code",
   "execution_count": 117,
   "metadata": {},
   "outputs": [
    {
     "name": "stdout",
     "output_type": "stream",
     "text": [
      "Precision = 0.6\n",
      "Recall =  0.3\n",
      "F-Score = 0.4\n"
     ]
    }
   ],
   "source": [
    "# Precision = No. of relevant documents retrieved / No. of total documents retrieved\n",
    "precision = 6/10\n",
    "print (\"Precision =\", precision)\n",
    "\n",
    "# Recall = No. of relevant documents retrieved / No. of total relevant documents\n",
    "recall = 6/20 # orbitary number here\n",
    "print (\"Recall = \", recall)\n",
    "\n",
    "Fscore = 2 * precision * recall /(precision + recall)\n",
    "print (\"F-Score =\", Fscore)"
   ]
  }
 ],
 "metadata": {
  "kernelspec": {
   "display_name": "Python 3",
   "language": "python",
   "name": "python3"
  },
  "language_info": {
   "codemirror_mode": {
    "name": "ipython",
    "version": 3
   },
   "file_extension": ".py",
   "mimetype": "text/x-python",
   "name": "python",
   "nbconvert_exporter": "python",
   "pygments_lexer": "ipython3",
   "version": "3.6.5"
  }
 },
 "nbformat": 4,
 "nbformat_minor": 2
}
