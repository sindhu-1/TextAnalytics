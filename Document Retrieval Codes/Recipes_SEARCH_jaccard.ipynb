{
 "cells": [
  {
   "cell_type": "code",
   "execution_count": 1,
   "metadata": {},
   "outputs": [],
   "source": [
    "import numpy as np\n",
    "import pandas as pd\n",
    "import nltk\n",
    "import re\n",
    "import os\n",
    "import codecs\n",
    "from sklearn import feature_extraction\n",
    "import mpld3\n",
    "import gensim\n",
    "\n",
    "# To display full text\n",
    "pd.set_option('display.max_colwidth', -1)\n",
    "\n",
    "# Load the Lemmatisation function --------------------------------------------------------\n",
    "from nltk.stem import WordNetLemmatizer\n",
    "lemmatizer = WordNetLemmatizer()\n",
    "\n",
    "\n",
    "# Load the Stop words ---------------------------------------------------------------------\n",
    "from sklearn.feature_extraction.text import CountVectorizer\n",
    " \n",
    "# Defining custom stop words\n",
    "stopwords = nltk.corpus.stopwords.words('english')\n",
    "stopwords = stopwords  + ['cup','teaspoon','tablespoon','sweet', 'low', 'high','medium', 'chopped', 'crushed', 'pound', 'small', 'fresh', 'clove', 'oz', \n",
    "                'ounce','cut','taste','thinly','lengthwis','extra','garnish','finely','long','short','inch','thin','pieces',\n",
    "                'wide','lightly','country','discarded','across','package','packed','pieces','extra','squeezed','sometimes',\n",
    "                'half','free','box','container','jar','equipment','pale','lengthwise','perferably','note','divided','piece',\n",
    "                'part','separated','bunch','large','lb','kosher','salt','freshly_ground','ground','plus_more','minced',\n",
    "                'cut_into','peeled','thinly_sliced','tbsp','tsp','gram','dice','room_temperature','coarsely','coarse_kosher','coarse','dash_of',\n",
    "                'ml','plus','inch_cubes','water','diced','seeded','dried','frozen','such_as','red','white','green','brown','oil','chilled',\n",
    "                'grated','slice','sliced','thick','to_taste','leaf','ounce_can','peel','hot','cold','wedge','pinch_of',\n",
    "                'whole','size','remove','removed','strip','special_equipment','optional','trimmed','crosswise','xa','fine','sliced_thin',\n",
    "                'halved','halved_lengthwise','quartered','inch_thick_slices','crumbled','inch_dice','drained','loosely_packed',\n",
    "                'preferably','cooked','uncooked','thawed','pitted','cored','canned_low','powder','stick','round','tied',\n",
    "                'dry_white','softened','soft','head','some_supermarkets','one','two','eight','add','grade','torn','left_intact','dash',\n",
    "                'deveined','freshly','melted','for_garnish','strong','ounce bag','ounce_package','several','by_inch','quart','quarter',\n",
    "                'lightly_beaten','if_needed','packed_golden_brown','picked','pale_green_parts_only','prepared','double','mild',\n",
    "                'slivered','special_equipment_an_instant','at_room_temperature','medium','plus_more_if_needed','medium_size',\n",
    "                'very_thinly_sliced','wear_rubber_gloves']"
   ]
  },
  {
   "cell_type": "code",
   "execution_count": 2,
   "metadata": {},
   "outputs": [],
   "source": [
    "# Pre Processing function -------------------------------------------------------\n",
    "import re\n",
    "def pre_process(text):\n",
    "    \n",
    "    # lowercase\n",
    "    text=text.lower()\n",
    "    \n",
    "    #remove tags\n",
    "    text=re.sub(\"&lt;/?.*?&gt;\",\" &lt;&gt; \",text)\n",
    "    \n",
    "    # remove special characters and digits\n",
    "    text=re.sub(\"(\\\\d|\\\\W)+\",\" \",text)\n",
    "    \n",
    "    return text"
   ]
  },
  {
   "cell_type": "code",
   "execution_count": 3,
   "metadata": {},
   "outputs": [],
   "source": [
    "# Reading the data\n",
    "import pandas as pd\n",
    "recipes = pd.read_json('full_format_recipes.json')"
   ]
  },
  {
   "cell_type": "code",
   "execution_count": 4,
   "metadata": {},
   "outputs": [
    {
     "name": "stdout",
     "output_type": "stream",
     "text": [
      "(20111, 11)\n"
     ]
    },
    {
     "data": {
      "text/plain": [
       "Index(['calories', 'categories', 'date', 'desc', 'directions', 'fat',\n",
       "       'ingredients', 'protein', 'rating', 'sodium', 'title'],\n",
       "      dtype='object')"
      ]
     },
     "execution_count": 4,
     "metadata": {},
     "output_type": "execute_result"
    }
   ],
   "source": [
    "# remove records with missing title\n",
    "recipes_final=recipes.dropna(subset=[\"title\"], inplace=False)\n",
    "recipes_final.reset_index(drop=True, inplace=True)\n",
    "print(recipes_final.shape)\n",
    "recipes_final.columns"
   ]
  },
  {
   "cell_type": "code",
   "execution_count": 5,
   "metadata": {},
   "outputs": [
    {
     "name": "stdout",
     "output_type": "stream",
     "text": [
      "(18295, 11)\n"
     ]
    },
    {
     "data": {
      "text/plain": [
       "Index(['calories', 'categories', 'date', 'desc', 'directions', 'fat',\n",
       "       'ingredients', 'protein', 'rating', 'sodium', 'title'],\n",
       "      dtype='object')"
      ]
     },
     "execution_count": 5,
     "metadata": {},
     "output_type": "execute_result"
    }
   ],
   "source": [
    "# remove duplicate recipes\n",
    "recipes_final=pd.DataFrame(recipes_final)\n",
    "\n",
    "recipes_final = recipes_final.iloc[recipes_final.astype(str).drop_duplicates().index]\n",
    "recipes_final.reset_index(drop=True, inplace=True)\n",
    "\n",
    "print(recipes_final.shape)\n",
    "recipes_final.columns"
   ]
  },
  {
   "cell_type": "code",
   "execution_count": 6,
   "metadata": {},
   "outputs": [],
   "source": [
    "# combine \"title\" and \"ingredients\" as one string variable\n",
    "recipes_final.iloc[:,6] = [str(ingrd) for ingrd in (recipes_final.iloc[:,6])]\n",
    "recipes_final.iloc[:,10] = [str(title) for title in (recipes_final.iloc[:,10])]\n",
    "\n",
    "recipes_final[\"titleingrd\"]=recipes_final[\"title\"]+recipes_final[\"ingredients\"]"
   ]
  },
  {
   "cell_type": "code",
   "execution_count": 7,
   "metadata": {},
   "outputs": [],
   "source": [
    "# Make sure the time format is correct\n",
    "# We will consider only hours and minutes in the time component\n",
    "recipes_final.date = recipes_final.date.dt.strftime('%m/%d/%Y %H:%M')"
   ]
  },
  {
   "cell_type": "code",
   "execution_count": 8,
   "metadata": {},
   "outputs": [],
   "source": [
    "# Apply the above function to preprocess ingredients\n",
    "recipes_final['ingredients_processed'] = recipes_final['titleingrd'].apply(lambda x:pre_process(x))"
   ]
  },
  {
   "cell_type": "code",
   "execution_count": 9,
   "metadata": {},
   "outputs": [
    {
     "data": {
      "text/plain": [
       "'boudin blanc terrine with red onion confit cups whipping cream medium onions chopped teaspoons salt bay leaves whole cloves large garlic clove crushed teaspoon pepper teaspoon ground nutmeg pinch of dried thyme crumbled large shallots minced tablespoon butter pound trimmed boneless center pork loin sinew removed cut into inch chunks well chilled eggs tablespoon all purpose flour cup tawny port tablespoons dried currants minced lettuce leaves cracked peppercorns minced fresh parsley bay leaves french bread baguette slices tablespoons olive oil large red onions halved sliced tablespoons dried currants tablespoons red wine vinegar tablespoons canned chicken broth teaspoons chopped fresh thyme or teaspoon dried crumbled teaspoon sugar '"
      ]
     },
     "execution_count": 9,
     "metadata": {},
     "output_type": "execute_result"
    }
   ],
   "source": [
    "recipes_final.columns\n",
    "recipes_final.iloc[1,12]"
   ]
  },
  {
   "cell_type": "code",
   "execution_count": 10,
   "metadata": {},
   "outputs": [],
   "source": [
    "# Define the sentence to be lemmatized\n",
    "sentence = recipes_final.iloc[:,12]\n",
    "\n",
    "# Perform lemmatization for each recipe (row)\n",
    "lemmatized_output = []\n",
    "for rcp in sentence:\n",
    "    word_list = nltk.word_tokenize(rcp)\n",
    "    lo = ' '.join([lemmatizer.lemmatize(w) for w in word_list])\n",
    "    lemmatized_output.append(lo)"
   ]
  },
  {
   "cell_type": "code",
   "execution_count": 11,
   "metadata": {},
   "outputs": [
    {
     "name": "stdout",
     "output_type": "stream",
     "text": [
      "before: yams braised with cream rosemary and nutmeg teaspoons olive oil cup finely chopped shallots teaspoons minced fresh rosemary pounds yams red skinned sweet potatoes peeled cut into inch thick rounds rounds cut in half cups canned low salt chicken broth cup whipping cream ground nutmeg \n",
      "after: yam braised with cream rosemary and nutmeg teaspoon olive oil cup finely chopped shallot teaspoon minced fresh rosemary pound yam red skinned sweet potato peeled cut into inch thick round round cut in half cup canned low salt chicken broth cup whipping cream ground nutmeg\n"
     ]
    }
   ],
   "source": [
    "# Checking lemmatization\n",
    "print(\"before:\",sentence[10])\n",
    "print(\"after:\",lemmatized_output[10])"
   ]
  },
  {
   "cell_type": "code",
   "execution_count": 12,
   "metadata": {},
   "outputs": [],
   "source": [
    "# Tokenize the words in each recipe\n",
    "lem_out_wordlist = [nltk.word_tokenize(x) for x in lemmatized_output]"
   ]
  },
  {
   "cell_type": "code",
   "execution_count": 13,
   "metadata": {},
   "outputs": [],
   "source": [
    "# Subset columns to display\n",
    "recipes_list = recipes_final[[ 'title','date','rating','calories', 'ingredients', 'directions', 'fat',\n",
    "        'protein','sodium']]\n",
    "# Reset index name \n",
    "recipes_list = pd.concat([pd.DataFrame(list(recipes_list.index)),recipes_list], axis=1)\n",
    "\n",
    "# Rename the columns\n",
    "recipes_list.columns = [ 'row_num' ,'title','date','rating','calories', 'ingredients', 'directions', 'fat',\n",
    "        'protein','sodium']"
   ]
  },
  {
   "cell_type": "code",
   "execution_count": null,
   "metadata": {},
   "outputs": [],
   "source": []
  },
  {
   "cell_type": "code",
   "execution_count": 14,
   "metadata": {},
   "outputs": [],
   "source": [
    "# Jaccard similarity function\n",
    "# Lower the  better\n",
    "from math import*\n",
    "  \n",
    "def jaccard_similarity(x,y):\n",
    "  \n",
    " intersection_cardinality = len(set.intersection(*[set(x), set(y)]))\n",
    " union_cardinality = len(set.union(*[set(x), set(y)]))\n",
    " return intersection_cardinality/float(union_cardinality)"
   ]
  },
  {
   "cell_type": "code",
   "execution_count": 15,
   "metadata": {},
   "outputs": [],
   "source": [
    "from nltk.util import ngrams \n",
    "\n",
    "def bigram_recipe(txt):\n",
    "    if not txt: return None\n",
    "    ng = ngrams(txt, 2)\n",
    "    #ng3 = ngrams(txt, 3)\n",
    "    ub = txt + list(ng)\n",
    "    return(ub)\n"
   ]
  },
  {
   "cell_type": "code",
   "execution_count": 16,
   "metadata": {},
   "outputs": [],
   "source": [
    "#bigram_recipe(lem_out_wordlist[0])\n"
   ]
  },
  {
   "cell_type": "code",
   "execution_count": 17,
   "metadata": {},
   "outputs": [],
   "source": [
    "def getRecipe_Jaccard(query = \"\", sort = True):\n",
    "    \n",
    "    # Define empty arrays\n",
    "    similarity = [] # Distance between document\n",
    "    row_numj = [] # Row number of the document \n",
    "    \n",
    "    # Pre-process query\n",
    "    query_processed = pre_process(str(query))\n",
    "    \n",
    "    # Lemmatize the query\n",
    "    query_wlist = nltk.word_tokenize(query_processed)\n",
    "    #lemmatized_query = ' '.join([lemmatizer.lemmatize(w) for w in query_wlist])\n",
    "    \n",
    "    for x in range(len(lem_out_wordlist)):\n",
    "        vector = lem_out_wordlist[x]\n",
    "        jacc = jaccard_similarity(bigram_recipe(vector), bigram_recipe(query_wlist)) ## bigram\n",
    "        #jacc = jaccard_similarity(vector, query_wlist) ## Unigram\n",
    "        if jacc > 0:\n",
    "            similarity.append(jacc)\n",
    "            row_numj.append(x)\n",
    "    \n",
    "    # Concatenate the columns into a dataframe\n",
    "    matches = pd.concat([pd.DataFrame(similarity),pd.DataFrame(row_numj)],axis = 1)\n",
    "    if matches.empty:\n",
    "        return(print(\" No Recipes with \"+ query))\n",
    "# Provide descriptive the column names\n",
    "    matches.columns = ['similarity_val','row_num']\n",
    "# Rank the results\n",
    "    matches = matches.sort_values(by=['similarity_val'],ascending=False)\n",
    "    print(matches.shape[0], \"recipes matched\")\n",
    "    \n",
    "    # Save the top 10 in a dataframe\n",
    "    results = pd.DataFrame(recipes_list.iloc[matches.row_num[0:10],:])\n",
    "    \n",
    "    results_score = pd.merge(results,matches[:10], how = 'left', on = 'row_num')\n",
    "    \n",
    "    if(sort):\n",
    "        # Sort by time\n",
    "        results = results.sort_values(by = ['date'], ascending=False)\n",
    "        # sort my ratings\n",
    "        results = results.sort_values(by = ['rating'], ascending=False)\n",
    "    else:\n",
    "        results = pd.DataFrame(recipes_list.iloc[matches.row_num[:10],:])\n",
    "        results_score = pd.merge(results,matches[:10], how = 'left', on = 'row_num')\n",
    "        results_score = results_score.sort_values(by = ['similarity_val'],ascending=False)\n",
    "        #results.to_excel('query_results_jc.xlsx')\n",
    "        \n",
    "    #Return the dataset\n",
    "    if query != '':\n",
    "        return(results_score)\n",
    "    "
   ]
  },
  {
   "cell_type": "markdown",
   "metadata": {},
   "source": [
    "# Recipe Search"
   ]
  },
  {
   "cell_type": "code",
   "execution_count": 18,
   "metadata": {},
   "outputs": [
    {
     "name": "stdout",
     "output_type": "stream",
     "text": [
      "Enter your ingredients search here  carrot cake\n"
     ]
    }
   ],
   "source": [
    "# Try the retrieval for a few test queries\n",
    "query = input(\"Enter your ingredients search here  \")"
   ]
  },
  {
   "cell_type": "code",
   "execution_count": 19,
   "metadata": {
    "scrolled": false
   },
   "outputs": [
    {
     "name": "stdout",
     "output_type": "stream",
     "text": [
      "1971 recipes matched\n",
      "Wall time: 1.53 s\n"
     ]
    },
    {
     "data": {
      "text/html": [
       "<div>\n",
       "<style scoped>\n",
       "    .dataframe tbody tr th:only-of-type {\n",
       "        vertical-align: middle;\n",
       "    }\n",
       "\n",
       "    .dataframe tbody tr th {\n",
       "        vertical-align: top;\n",
       "    }\n",
       "\n",
       "    .dataframe thead th {\n",
       "        text-align: right;\n",
       "    }\n",
       "</style>\n",
       "<table border=\"1\" class=\"dataframe\">\n",
       "  <thead>\n",
       "    <tr style=\"text-align: right;\">\n",
       "      <th></th>\n",
       "      <th>row_num</th>\n",
       "      <th>title</th>\n",
       "      <th>date</th>\n",
       "      <th>rating</th>\n",
       "      <th>calories</th>\n",
       "      <th>ingredients</th>\n",
       "      <th>directions</th>\n",
       "      <th>fat</th>\n",
       "      <th>protein</th>\n",
       "      <th>sodium</th>\n",
       "      <th>similarity_val</th>\n",
       "    </tr>\n",
       "  </thead>\n",
       "  <tbody>\n",
       "    <tr>\n",
       "      <th>0</th>\n",
       "      <td>16187</td>\n",
       "      <td>Boiled Carrots with Prepared Horseradish</td>\n",
       "      <td>03/11/2013 04:00</td>\n",
       "      <td>0.000</td>\n",
       "      <td>NaN</td>\n",
       "      <td>[]</td>\n",
       "      <td>[Cut 3 medium carrots into 1/4-inch thick rounds. Place in a small saucepan. Add water to cover, 1/2 teaspoon salt, and a grind or two of black pepper. Bring to boiling over high heat; boil until the carrots are tender—about 10 minutes. Drain in a colander and serve warm, with prepared horseradish on the side.]</td>\n",
       "      <td>NaN</td>\n",
       "      <td>NaN</td>\n",
       "      <td>NaN</td>\n",
       "      <td>0.090909</td>\n",
       "    </tr>\n",
       "    <tr>\n",
       "      <th>1</th>\n",
       "      <td>17385</td>\n",
       "      <td>Carrot Cake</td>\n",
       "      <td>01/13/2012 04:00</td>\n",
       "      <td>4.375</td>\n",
       "      <td>315.0</td>\n",
       "      <td>['1 pound carrots (6 or 7 large carrots), peeled', '2 1/2 cups flour', '1 1/4 teaspoons baking powder', '1 teaspoon baking soda', '1 1/4 teaspoons ground cinnamon', '1/2 teaspoon ground nutmeg', '1/8 teaspoon ground cloves', '1/2 teaspoon salt', \"1 1/2 cups confectioners' sugar\", '1/2 cup packed dark brown sugar', '1 1/4 cups vegetable oil', '4 eggs, lightly beaten']</td>\n",
       "      <td>[1 Preheat the oven to 350°F. Grease two 9-inch round pans or one 9 by 13-inch pan or with cooking spray or oil. In addition, you can also place a cut-out parchment circle on the bottom of the pan., 2 Grate the carrots with a grater (the old-school way!) or a food processor. I prefer medium-grated carrots—not too big, not too fine., 3 In a large bowl, mix together the flour, baking powder, baking soda, cinnamon, nutmeg, cloves, salt, confectioner's sugar, and brown sugar. Stir in the oil and eggs, then the carrots., 4 Pour the batter into the prepared pan and bake for 30 to 40 minutes, or until a toothpick comes out clean., 5 Cool completely, then frost cream cheese frosting.]</td>\n",
       "      <td>19.0</td>\n",
       "      <td>4.0</td>\n",
       "      <td>219.0</td>\n",
       "      <td>0.047619</td>\n",
       "    </tr>\n",
       "    <tr>\n",
       "      <th>2</th>\n",
       "      <td>10119</td>\n",
       "      <td>Carrot Cake Smoothie</td>\n",
       "      <td>11/04/2014 04:00</td>\n",
       "      <td>5.000</td>\n",
       "      <td>403.0</td>\n",
       "      <td>['2 tablespoons unsweetened shredded coconut (or flakes)', '2 tablespoons roughly chopped walnuts', '3/4 cup grated carrot (1 large carrot)', '1/2 cup frozen peeled orange segments', '1/2 banana, sliced and frozen', '1/2 cup low-fat Greek yogurt', '1 teaspoon honey', '1/4 teaspoon ground cinnamon', '1 teaspoon vanilla extract', '1/2 cup coconut water']</td>\n",
       "      <td>[Place ingredients in blender in the order listed and blend until smooth.]</td>\n",
       "      <td>20.0</td>\n",
       "      <td>20.0</td>\n",
       "      <td>233.0</td>\n",
       "      <td>0.040000</td>\n",
       "    </tr>\n",
       "    <tr>\n",
       "      <th>3</th>\n",
       "      <td>10006</td>\n",
       "      <td>Carrot and Squash Ribbons</td>\n",
       "      <td>08/20/2004 04:00</td>\n",
       "      <td>3.125</td>\n",
       "      <td>97.0</td>\n",
       "      <td>['2 medium carrots', '2 medium yellow squash', '2 medium zucchini', '1 tablespoon olive oil']</td>\n",
       "      <td>[Trim vegetables and cut lengthwise into 116-inch-thick ribbons with a U-shaped vegetable peeler., Have ready a bowl of ice and cold water. Cook carrots in a large pot of boiling salted water 2 minutes. Add both squashes and cook until vegetables are crisp-tender, 1 to 2 minutes., Drain vegetables and transfer to ice water, then drain in a colander., Heat oil in a large skillet over moderate heat until hot but not smoking, then cook vegetables, tossing, until heated through. Season with salt and pepper.]</td>\n",
       "      <td>3.0</td>\n",
       "      <td>2.0</td>\n",
       "      <td>24.0</td>\n",
       "      <td>0.040000</td>\n",
       "    </tr>\n",
       "    <tr>\n",
       "      <th>4</th>\n",
       "      <td>4145</td>\n",
       "      <td>Sesame Carrots</td>\n",
       "      <td>12/11/2012 04:00</td>\n",
       "      <td>3.750</td>\n",
       "      <td>28.0</td>\n",
       "      <td>['4 medium carrots', '1 tablespoon toasted sesame oil', 'kosher salt', 'freshly ground black pepper']</td>\n",
       "      <td>[Peel and cut 4 medium carrots into long matchstick-size pieces. Heat 1 tablespoon toasted sesame oil in a large skillet, preferably nonstick, over medium heat. Add carrots and cook, stirring occasionally, until just tender, 3-4 minutes. Season with kosher salt and freshly ground black pepper.]</td>\n",
       "      <td>2.0</td>\n",
       "      <td>0.0</td>\n",
       "      <td>26.0</td>\n",
       "      <td>0.037037</td>\n",
       "    </tr>\n",
       "    <tr>\n",
       "      <th>5</th>\n",
       "      <td>7171</td>\n",
       "      <td>Layer Cake</td>\n",
       "      <td>08/20/2004 20:58</td>\n",
       "      <td>0.000</td>\n",
       "      <td>NaN</td>\n",
       "      <td>['1/2 ounce crème de cacao', '1/2 ounce apricot brandy', '1/2 ounce heavy cream', 'Maraschino cherry']</td>\n",
       "      <td>[Pour in the order listed so that each ingredient floats on top of the one before it. Carefully place the cherry on top. Chill before serving. .]</td>\n",
       "      <td>NaN</td>\n",
       "      <td>NaN</td>\n",
       "      <td>NaN</td>\n",
       "      <td>0.037037</td>\n",
       "    </tr>\n",
       "    <tr>\n",
       "      <th>6</th>\n",
       "      <td>7470</td>\n",
       "      <td>Potato Cakes with Leek and Carrot</td>\n",
       "      <td>08/20/2004 04:00</td>\n",
       "      <td>3.750</td>\n",
       "      <td>425.0</td>\n",
       "      <td>['1 pound russet potatoes, peeled, coarsely grated', '1 cup sliced leek (white and pale green parts only)', '2/3 cup coarsely grated peeled carrot', '4 tablespoons (1/2 stick) butter', 'Sour cream (optional)']</td>\n",
       "      <td>[Wrap grated potatoes in several layers of paper towels and squeeze dry. Place potatoes in large bowl. Add leek and carrot and toss to combine. Season generously with salt and pepper., Melt 2 tablespoons butter in each of 2 heavy medium skillets over medium-low heat. Add half of vegetable mixture (about 2 cups) to each skillet. Using metal spatula, flatten vegetables in each skillet to 7- to 8-inch-diameter cake. Cover skillets and cook cakes until crisp and brown at edges, about 12 minutes. Turn cakes over. Cook uncovered until vegetables are cooked through and cakes are crisp and brown on bottom, about 5 minutes longer. (Can be prepared 3 hours ahead. Transfer to baking sheet and let stand at room temperature. Rewarm in 375°F oven until crisp, about 10 minutes.) Transfer cakes to plates. Serve with sour cream, if desired.]</td>\n",
       "      <td>23.0</td>\n",
       "      <td>6.0</td>\n",
       "      <td>48.0</td>\n",
       "      <td>0.036364</td>\n",
       "    </tr>\n",
       "    <tr>\n",
       "      <th>7</th>\n",
       "      <td>11276</td>\n",
       "      <td>Garlic Soup</td>\n",
       "      <td>08/20/2004 04:00</td>\n",
       "      <td>1.250</td>\n",
       "      <td>91.0</td>\n",
       "      <td>['2 cups water', '1 cup garlic cloves, peeled', '1 cup chopped peeled potatoes', '1 cup chopped carrots', 'Whipping cream (optional)']</td>\n",
       "      <td>[Combine first 4 ingredients in medium saucepan. Bring to boil. Cover, reduce heat to low and simmer until vegetables are tender, about 25 minutes. Puree in batches in blender. Season with salt and pepper. Rewarm over medium heat. Drizzle with cream, if desired.]</td>\n",
       "      <td>0.0</td>\n",
       "      <td>3.0</td>\n",
       "      <td>31.0</td>\n",
       "      <td>0.033333</td>\n",
       "    </tr>\n",
       "    <tr>\n",
       "      <th>8</th>\n",
       "      <td>9300</td>\n",
       "      <td>3-Ingredient Gingersnap Icebox Cake</td>\n",
       "      <td>09/01/2016 15:05</td>\n",
       "      <td>0.000</td>\n",
       "      <td>325.0</td>\n",
       "      <td>['2 cups heavy cream', '42 gingersnap cookies (about 10 ounces), divided', '3/4 cup orange marmalade, divided']</td>\n",
       "      <td>[Using an electric mixer on medium-high speed, whip cream to stiff peaks in a large bowl., Arrange 10 cookies in a circle (8 around the edge and 2 in the middle) on a cake stand or large plate, breaking 1 center cookie to fit. Top with one-quarter of whipped cream, spreading gently almost to edge of cookies (you’ll want to see them peeking out). Dollop one-quarter of marmalade over. Repeat with 30 cookies and remaining cream and marmalade to make 4 layers, ending with marmalade., Place remaining 2 cookies in a resealable plastic bag. Using the back of a spoon, rolling pin, or meat mallet, crush to fine crumbs. Sprinkle crumbs over top layer, then chill at least 8 hours and up to 2 days.]</td>\n",
       "      <td>15.0</td>\n",
       "      <td>3.0</td>\n",
       "      <td>206.0</td>\n",
       "      <td>0.033333</td>\n",
       "    </tr>\n",
       "    <tr>\n",
       "      <th>9</th>\n",
       "      <td>937</td>\n",
       "      <td>Inside-Out Carrot Cake Cookies</td>\n",
       "      <td>08/20/2004 04:00</td>\n",
       "      <td>4.375</td>\n",
       "      <td>297.0</td>\n",
       "      <td>['1 1/8 cups all-purpose flour', '1 teaspoon cinnamon', '1/2 teaspoon baking soda', '1/2 teaspoon salt', '1 stick (1/2 cup) unsalted butter, softened', '1/3 cup plus 2 tablespoons packed light brown sugar', '1/3 cup plus 2 tablespoons granulated sugar', '1 large egg', '1/2 teaspoon vanilla', '1 cup coarsely grated carrots (2 medium)', '1 scant cup walnuts (3 ounces), chopped', '1/2 cup raisins (2 1/2 ounces)', '8 ounces cream cheese', '1/4 cup honey']</td>\n",
       "      <td>[Put oven racks in upper and lower thirds of oven and preheat oven to 375°F. Butter 2 baking sheets., Whisk together flour, cinnamon, baking soda, and salt in a bowl., Beat together butter, sugars, egg, and vanilla in a bowl with an electric mixer at medium speed until pale and fluffy, about 2 minutes. Mix in carrots, nuts, and raisins at low speed, then add flour mixture and beat until just combined., Drop 1 1/2 tablespoons batter per cookie 2 inches apart on baking sheets and bake, switching position of sheets halfway through baking, until cookies are lightly browned and springy to the touch, 12 to 16 minutes total. Cool cookies on sheets on racks 1 minute, then transfer cookies to racks to cool completely., While cookies are baking, blend cream cheese and honey in a food processor until smooth., Sandwich flat sides of cookies together with a generous tablespoon of cream cheese filling in between.]</td>\n",
       "      <td>18.0</td>\n",
       "      <td>4.0</td>\n",
       "      <td>216.0</td>\n",
       "      <td>0.032967</td>\n",
       "    </tr>\n",
       "  </tbody>\n",
       "</table>\n",
       "</div>"
      ],
      "text/plain": [
       "   row_num                                      title              date  \\\n",
       "0  16187    Boiled Carrots with Prepared Horseradish   03/11/2013 04:00   \n",
       "1  17385    Carrot Cake                                01/13/2012 04:00   \n",
       "2  10119    Carrot Cake Smoothie                       11/04/2014 04:00   \n",
       "3  10006    Carrot and Squash Ribbons                  08/20/2004 04:00   \n",
       "4  4145     Sesame Carrots                             12/11/2012 04:00   \n",
       "5  7171     Layer Cake                                 08/20/2004 20:58   \n",
       "6  7470     Potato Cakes with Leek and Carrot          08/20/2004 04:00   \n",
       "7  11276    Garlic Soup                                08/20/2004 04:00   \n",
       "8  9300     3-Ingredient Gingersnap Icebox Cake        09/01/2016 15:05   \n",
       "9  937      Inside-Out Carrot Cake Cookies             08/20/2004 04:00   \n",
       "\n",
       "   rating  calories  \\\n",
       "0  0.000  NaN         \n",
       "1  4.375   315.0      \n",
       "2  5.000   403.0      \n",
       "3  3.125   97.0       \n",
       "4  3.750   28.0       \n",
       "5  0.000  NaN         \n",
       "6  3.750   425.0      \n",
       "7  1.250   91.0       \n",
       "8  0.000   325.0      \n",
       "9  4.375   297.0      \n",
       "\n",
       "                                                                                                                                                                                                                                                                                                                                                                                                                                                               ingredients  \\\n",
       "0  []                                                                                                                                                                                                                                                                                                                                                                                                                                                                        \n",
       "1  ['1 pound carrots (6 or 7 large carrots), peeled', '2 1/2 cups flour', '1 1/4 teaspoons baking powder', '1 teaspoon baking soda', '1 1/4 teaspoons ground cinnamon', '1/2 teaspoon ground nutmeg', '1/8 teaspoon ground cloves', '1/2 teaspoon salt', \"1 1/2 cups confectioners' sugar\", '1/2 cup packed dark brown sugar', '1 1/4 cups vegetable oil', '4 eggs, lightly beaten']                                                                                         \n",
       "2  ['2 tablespoons unsweetened shredded coconut (or flakes)', '2 tablespoons roughly chopped walnuts', '3/4 cup grated carrot (1 large carrot)', '1/2 cup frozen peeled orange segments', '1/2 banana, sliced and frozen', '1/2 cup low-fat Greek yogurt', '1 teaspoon honey', '1/4 teaspoon ground cinnamon', '1 teaspoon vanilla extract', '1/2 cup coconut water']                                                                                                        \n",
       "3  ['2 medium carrots', '2 medium yellow squash', '2 medium zucchini', '1 tablespoon olive oil']                                                                                                                                                                                                                                                                                                                                                                             \n",
       "4  ['4 medium carrots', '1 tablespoon toasted sesame oil', 'kosher salt', 'freshly ground black pepper']                                                                                                                                                                                                                                                                                                                                                                     \n",
       "5  ['1/2 ounce crème de cacao', '1/2 ounce apricot brandy', '1/2 ounce heavy cream', 'Maraschino cherry']                                                                                                                                                                                                                                                                                                                                                                    \n",
       "6  ['1 pound russet potatoes, peeled, coarsely grated', '1 cup sliced leek (white and pale green parts only)', '2/3 cup coarsely grated peeled carrot', '4 tablespoons (1/2 stick) butter', 'Sour cream (optional)']                                                                                                                                                                                                                                                         \n",
       "7  ['2 cups water', '1 cup garlic cloves, peeled', '1 cup chopped peeled potatoes', '1 cup chopped carrots', 'Whipping cream (optional)']                                                                                                                                                                                                                                                                                                                                    \n",
       "8  ['2 cups heavy cream', '42 gingersnap cookies (about 10 ounces), divided', '3/4 cup orange marmalade, divided']                                                                                                                                                                                                                                                                                                                                                           \n",
       "9  ['1 1/8 cups all-purpose flour', '1 teaspoon cinnamon', '1/2 teaspoon baking soda', '1/2 teaspoon salt', '1 stick (1/2 cup) unsalted butter, softened', '1/3 cup plus 2 tablespoons packed light brown sugar', '1/3 cup plus 2 tablespoons granulated sugar', '1 large egg', '1/2 teaspoon vanilla', '1 cup coarsely grated carrots (2 medium)', '1 scant cup walnuts (3 ounces), chopped', '1/2 cup raisins (2 1/2 ounces)', '8 ounces cream cheese', '1/4 cup honey']   \n",
       "\n",
       "                                                                                                                                                                                                                                                                                                                                                                                                                                                                                                                                                                                                                                                                                                                                                                                                                                                                                                                                          directions  \\\n",
       "0  [Cut 3 medium carrots into 1/4-inch thick rounds. Place in a small saucepan. Add water to cover, 1/2 teaspoon salt, and a grind or two of black pepper. Bring to boiling over high heat; boil until the carrots are tender—about 10 minutes. Drain in a colander and serve warm, with prepared horseradish on the side.]                                                                                                                                                                                                                                                                                                                                                                                                                                                                                                                                                                                                                            \n",
       "1  [1 Preheat the oven to 350°F. Grease two 9-inch round pans or one 9 by 13-inch pan or with cooking spray or oil. In addition, you can also place a cut-out parchment circle on the bottom of the pan., 2 Grate the carrots with a grater (the old-school way!) or a food processor. I prefer medium-grated carrots—not too big, not too fine., 3 In a large bowl, mix together the flour, baking powder, baking soda, cinnamon, nutmeg, cloves, salt, confectioner's sugar, and brown sugar. Stir in the oil and eggs, then the carrots., 4 Pour the batter into the prepared pan and bake for 30 to 40 minutes, or until a toothpick comes out clean., 5 Cool completely, then frost cream cheese frosting.]                                                                                                                                                                                                                                       \n",
       "2  [Place ingredients in blender in the order listed and blend until smooth.]                                                                                                                                                                                                                                                                                                                                                                                                                                                                                                                                                                                                                                                                                                                                                                                                                                                                          \n",
       "3  [Trim vegetables and cut lengthwise into 116-inch-thick ribbons with a U-shaped vegetable peeler., Have ready a bowl of ice and cold water. Cook carrots in a large pot of boiling salted water 2 minutes. Add both squashes and cook until vegetables are crisp-tender, 1 to 2 minutes., Drain vegetables and transfer to ice water, then drain in a colander., Heat oil in a large skillet over moderate heat until hot but not smoking, then cook vegetables, tossing, until heated through. Season with salt and pepper.]                                                                                                                                                                                                                                                                                                                                                                                                                       \n",
       "4  [Peel and cut 4 medium carrots into long matchstick-size pieces. Heat 1 tablespoon toasted sesame oil in a large skillet, preferably nonstick, over medium heat. Add carrots and cook, stirring occasionally, until just tender, 3-4 minutes. Season with kosher salt and freshly ground black pepper.]                                                                                                                                                                                                                                                                                                                                                                                                                                                                                                                                                                                                                                             \n",
       "5  [Pour in the order listed so that each ingredient floats on top of the one before it. Carefully place the cherry on top. Chill before serving. .]                                                                                                                                                                                                                                                                                                                                                                                                                                                                                                                                                                                                                                                                                                                                                                                                   \n",
       "6  [Wrap grated potatoes in several layers of paper towels and squeeze dry. Place potatoes in large bowl. Add leek and carrot and toss to combine. Season generously with salt and pepper., Melt 2 tablespoons butter in each of 2 heavy medium skillets over medium-low heat. Add half of vegetable mixture (about 2 cups) to each skillet. Using metal spatula, flatten vegetables in each skillet to 7- to 8-inch-diameter cake. Cover skillets and cook cakes until crisp and brown at edges, about 12 minutes. Turn cakes over. Cook uncovered until vegetables are cooked through and cakes are crisp and brown on bottom, about 5 minutes longer. (Can be prepared 3 hours ahead. Transfer to baking sheet and let stand at room temperature. Rewarm in 375°F oven until crisp, about 10 minutes.) Transfer cakes to plates. Serve with sour cream, if desired.]                                                                                \n",
       "7  [Combine first 4 ingredients in medium saucepan. Bring to boil. Cover, reduce heat to low and simmer until vegetables are tender, about 25 minutes. Puree in batches in blender. Season with salt and pepper. Rewarm over medium heat. Drizzle with cream, if desired.]                                                                                                                                                                                                                                                                                                                                                                                                                                                                                                                                                                                                                                                                             \n",
       "8  [Using an electric mixer on medium-high speed, whip cream to stiff peaks in a large bowl., Arrange 10 cookies in a circle (8 around the edge and 2 in the middle) on a cake stand or large plate, breaking 1 center cookie to fit. Top with one-quarter of whipped cream, spreading gently almost to edge of cookies (you’ll want to see them peeking out). Dollop one-quarter of marmalade over. Repeat with 30 cookies and remaining cream and marmalade to make 4 layers, ending with marmalade., Place remaining 2 cookies in a resealable plastic bag. Using the back of a spoon, rolling pin, or meat mallet, crush to fine crumbs. Sprinkle crumbs over top layer, then chill at least 8 hours and up to 2 days.]                                                                                                                                                                                                                            \n",
       "9  [Put oven racks in upper and lower thirds of oven and preheat oven to 375°F. Butter 2 baking sheets., Whisk together flour, cinnamon, baking soda, and salt in a bowl., Beat together butter, sugars, egg, and vanilla in a bowl with an electric mixer at medium speed until pale and fluffy, about 2 minutes. Mix in carrots, nuts, and raisins at low speed, then add flour mixture and beat until just combined., Drop 1 1/2 tablespoons batter per cookie 2 inches apart on baking sheets and bake, switching position of sheets halfway through baking, until cookies are lightly browned and springy to the touch, 12 to 16 minutes total. Cool cookies on sheets on racks 1 minute, then transfer cookies to racks to cool completely., While cookies are baking, blend cream cheese and honey in a food processor until smooth., Sandwich flat sides of cookies together with a generous tablespoon of cream cheese filling in between.]   \n",
       "\n",
       "    fat  protein  sodium  similarity_val  \n",
       "0 NaN   NaN      NaN      0.090909        \n",
       "1  19.0  4.0      219.0   0.047619        \n",
       "2  20.0  20.0     233.0   0.040000        \n",
       "3  3.0   2.0      24.0    0.040000        \n",
       "4  2.0   0.0      26.0    0.037037        \n",
       "5 NaN   NaN      NaN      0.037037        \n",
       "6  23.0  6.0      48.0    0.036364        \n",
       "7  0.0   3.0      31.0    0.033333        \n",
       "8  15.0  3.0      206.0   0.033333        \n",
       "9  18.0  4.0      216.0   0.032967        "
      ]
     },
     "execution_count": 19,
     "metadata": {},
     "output_type": "execute_result"
    }
   ],
   "source": [
    "%%time\n",
    "getRecipe_Jaccard(str(query))"
   ]
  },
  {
   "cell_type": "code",
   "execution_count": null,
   "metadata": {},
   "outputs": [],
   "source": []
  },
  {
   "cell_type": "markdown",
   "metadata": {},
   "source": [
    "# Evaluation of Document Retrieval "
   ]
  },
  {
   "cell_type": "markdown",
   "metadata": {},
   "source": [
    "### Precision & Recall"
   ]
  },
  {
   "cell_type": "markdown",
   "metadata": {},
   "source": [
    "Precision measures \"of all the documents we retrieved as relevant how many are actually relevant?\"\n",
    "Recall measures \"Of all the actual relevant documents how many did we retrieve as relevant?\"\n",
    "F-Score / F-measure is the weighted harmonic mean of precision and recall. The traditional F-measure or balanced F-score is:"
   ]
  },
  {
   "cell_type": "code",
   "execution_count": 117,
   "metadata": {},
   "outputs": [
    {
     "name": "stdout",
     "output_type": "stream",
     "text": [
      "Precision = 0.6\n",
      "Recall =  0.3\n",
      "F-Score = 0.4\n"
     ]
    }
   ],
   "source": [
    "# Precision = No. of relevant documents retrieved / No. of total documents retrieved\n",
    "precision = 6/10\n",
    "print (\"Precision =\", precision)\n",
    "\n",
    "# Recall = No. of relevant documents retrieved / No. of total relevant documents\n",
    "recall = 6/20 # orbitary number here\n",
    "print (\"Recall = \", recall)\n",
    "\n",
    "Fscore = 2 * precision * recall /(precision + recall)\n",
    "print (\"F-Score =\", Fscore)"
   ]
  }
 ],
 "metadata": {
  "kernelspec": {
   "display_name": "Python 3",
   "language": "python",
   "name": "python3"
  },
  "language_info": {
   "codemirror_mode": {
    "name": "ipython",
    "version": 3
   },
   "file_extension": ".py",
   "mimetype": "text/x-python",
   "name": "python",
   "nbconvert_exporter": "python",
   "pygments_lexer": "ipython3",
   "version": "3.6.5"
  }
 },
 "nbformat": 4,
 "nbformat_minor": 2
}
