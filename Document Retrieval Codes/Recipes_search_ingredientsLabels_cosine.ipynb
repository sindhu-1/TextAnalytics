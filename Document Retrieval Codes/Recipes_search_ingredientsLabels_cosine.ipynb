{
 "cells": [
  {
   "cell_type": "code",
   "execution_count": 1,
   "metadata": {},
   "outputs": [],
   "source": [
    "import numpy as np\n",
    "import pandas as pd\n",
    "import nltk\n",
    "import re\n",
    "import os\n",
    "import codecs\n",
    "from sklearn import feature_extraction\n",
    "import mpld3\n",
    "import gensim\n",
    "#from spellchecker import SpellChecker\n",
    "\n",
    "# To display full text\n",
    "pd.set_option('display.max_colwidth', -1)\n",
    "\n",
    "# Load the Lemmatisation function --------------------------------------------------------\n",
    "from nltk.stem import WordNetLemmatizer\n",
    "lemmatizer = WordNetLemmatizer()\n",
    "\n",
    "\n",
    "# Load the Stop words ---------------------------------------------------------------------\n",
    "from sklearn.feature_extraction.text import CountVectorizer\n",
    " \n",
    "# Defining custom stop words\n",
    "stopwords = nltk.corpus.stopwords.words('english')\n",
    "stopwords = stopwords  + ['cup','teaspoon','tablespoon','sweet', 'low', 'high','medium', 'chopped', 'crushed', 'pound', 'small', 'fresh', 'clove', 'oz', \n",
    "                'ounce','cut','taste','thinly','lengthwis','extra','garnish','finely','long','short','inch','thin','pieces',\n",
    "                'wide','lightly','country','discarded','across','package','packed','pieces','extra','squeezed','sometimes',\n",
    "                'half','free','box','container','jar','equipment','pale','lengthwise','perferably','note','divided','piece',\n",
    "                'part','separated','bunch','large','lb','kosher','salt','freshly_ground','ground','plus_more','minced',\n",
    "                'cut_into','peeled','thinly_sliced','tbsp','tsp','gram','dice','room_temperature','coarsely','coarse_kosher','coarse','dash_of',\n",
    "                'ml','plus','inch_cubes','water','diced','seeded','dried','frozen','such_as','red','white','green','brown','oil','chilled',\n",
    "                'grated','slice','sliced','thick','to_taste','leaf','ounce_can','peel','hot','cold','wedge','pinch_of',\n",
    "                'whole','size','remove','removed','strip','special_equipment','optional','trimmed','crosswise','xa','fine','sliced_thin',\n",
    "                'halved','halved_lengthwise','quartered','inch_thick_slices','crumbled','inch_dice','drained','loosely_packed',\n",
    "                'preferably','cooked','uncooked','thawed','pitted','cored','canned_low','powder','stick','round','tied',\n",
    "                'dry_white','softened','soft','head','some_supermarkets','one','two','eight','add','grade','torn','left_intact','dash',\n",
    "                'deveined','freshly','melted','for_garnish','strong','ounce bag','ounce_package','several','by_inch','quart','quarter',\n",
    "                'lightly_beaten','if_needed','packed_golden_brown','picked','pale_green_parts_only','prepared','double','mild',\n",
    "                'slivered','special_equipment_an_instant','at_room_temperature','medium','plus_more_if_needed','medium_size',\n",
    "                'very_thinly_sliced','wear_rubber_gloves']"
   ]
  },
  {
   "cell_type": "code",
   "execution_count": 2,
   "metadata": {},
   "outputs": [],
   "source": [
    "# Pre Processing function -------------------------------------------------------\n",
    "import re\n",
    "def pre_process(text):\n",
    "    \n",
    "    # lowercase\n",
    "    text=text.lower()\n",
    "    \n",
    "    #remove tags\n",
    "    text=re.sub(\"&lt;/?.*?&gt;\",\" &lt;&gt; \",text)\n",
    "    \n",
    "    # remove special characters and digits\n",
    "    text=re.sub(\"(\\\\d|\\\\W)+\",\" \",text)\n",
    "    \n",
    "    return text"
   ]
  },
  {
   "cell_type": "code",
   "execution_count": 3,
   "metadata": {},
   "outputs": [],
   "source": [
    "# Define a function to calculate cosine similarity\n",
    "import numpy.linalg as LA\n",
    "cx = lambda a, b : round(np.inner(a, b)/(LA.norm(a)*LA.norm(b)), 3)"
   ]
  },
  {
   "cell_type": "code",
   "execution_count": 4,
   "metadata": {},
   "outputs": [],
   "source": [
    "# Reading the data\n",
    "# Rename the \"combined data\" sheet to s1\n",
    "import pandas as pd\n",
    "recipes = pd.read_excel('recipes_topic_mixture_final.xlsx', sheet_name=\"s1\")"
   ]
  },
  {
   "cell_type": "code",
   "execution_count": null,
   "metadata": {},
   "outputs": [],
   "source": []
  },
  {
   "cell_type": "code",
   "execution_count": 5,
   "metadata": {},
   "outputs": [],
   "source": [
    "recipes1 = recipes[['title','date','rating','calories', 'ingredients', 'directions', 'fat',\n",
    "        'protein','sodium', 'Max Value', 'by Topic Name ']]"
   ]
  },
  {
   "cell_type": "code",
   "execution_count": 6,
   "metadata": {},
   "outputs": [
    {
     "name": "stdout",
     "output_type": "stream",
     "text": [
      "(18295, 11)\n"
     ]
    },
    {
     "data": {
      "text/plain": [
       "Index(['title', 'date', 'rating', 'calories', 'ingredients', 'directions',\n",
       "       'fat', 'protein', 'sodium', 'Max Value', 'by Topic Name '],\n",
       "      dtype='object')"
      ]
     },
     "execution_count": 6,
     "metadata": {},
     "output_type": "execute_result"
    }
   ],
   "source": [
    "# remove records with missing title\n",
    "# 19 recipes removed\n",
    "# recipes_final = recipes[recipes[\"ingredients\"].notnull()]\n",
    "recipes_final=recipes1.dropna(subset=[\"title\"], inplace=False)\n",
    "recipes_final.reset_index(drop=True, inplace=True)\n",
    "print(recipes_final.shape)\n",
    "recipes_final.columns"
   ]
  },
  {
   "cell_type": "code",
   "execution_count": 7,
   "metadata": {},
   "outputs": [
    {
     "name": "stdout",
     "output_type": "stream",
     "text": [
      "(18295, 11)\n"
     ]
    },
    {
     "data": {
      "text/plain": [
       "Index(['title', 'date', 'rating', 'calories', 'ingredients', 'directions',\n",
       "       'fat', 'protein', 'sodium', 'Max Value', 'by Topic Name '],\n",
       "      dtype='object')"
      ]
     },
     "execution_count": 7,
     "metadata": {},
     "output_type": "execute_result"
    }
   ],
   "source": [
    "# remove duplicate recipes\n",
    "recipes_final=pd.DataFrame(recipes_final)\n",
    "#recipes_final.drop_duplicates(subset=\"title\", keep='first', inplace=True)\n",
    "recipes_final = recipes_final.iloc[recipes_final.astype(str).drop_duplicates().index]\n",
    "recipes_final.reset_index(drop=True, inplace=True)\n",
    "\n",
    "print(recipes_final.shape)\n",
    "recipes_final.columns"
   ]
  },
  {
   "cell_type": "code",
   "execution_count": 8,
   "metadata": {},
   "outputs": [
    {
     "data": {
      "text/plain": [
       "'Festive Season'"
      ]
     },
     "execution_count": 8,
     "metadata": {},
     "output_type": "execute_result"
    }
   ],
   "source": [
    "recipes_final.iloc[1,10]"
   ]
  },
  {
   "cell_type": "code",
   "execution_count": 9,
   "metadata": {},
   "outputs": [],
   "source": [
    "# combine \"title\" and \"ingredients\" and labels as one string variable\n",
    "recipes_final.iloc[:,4] = [str(ingrd) for ingrd in (recipes_final.iloc[:,4])]\n",
    "recipes_final.iloc[:,0] = [str(title) for title in (recipes_final.iloc[:,0])]\n",
    "recipes_final.iloc[:,10] = [str(title) for title in (recipes_final.iloc[:,10])]\n",
    "\n",
    "\n",
    "recipes_final[\"titleingrd\"]=recipes_final[\"title\"]+recipes_final[\"ingredients\"] +recipes_final['by Topic Name ']"
   ]
  },
  {
   "cell_type": "code",
   "execution_count": 10,
   "metadata": {},
   "outputs": [],
   "source": [
    "# Make sure the time format is correct\n",
    "# We will consider only hours and minutes in the time component\n",
    "recipes_final.date = recipes_final.date.dt.strftime('%m/%d/%Y %H:%M')"
   ]
  },
  {
   "cell_type": "code",
   "execution_count": 11,
   "metadata": {},
   "outputs": [],
   "source": [
    "# Apply the above function to preprocess ingredients\n",
    "recipes_final['ingredients_processed'] = recipes_final['titleingrd'].apply(lambda x:pre_process(x))"
   ]
  },
  {
   "cell_type": "code",
   "execution_count": 12,
   "metadata": {},
   "outputs": [
    {
     "data": {
      "text/plain": [
       "'boudin blanc terrine with red onion confit cups whipping cream medium onions chopped teaspoons salt bay leaves whole cloves large garlic clove crushed teaspoon pepper teaspoon ground nutmeg pinch of dried thyme crumbled large shallots minced tablespoon butter pound trimmed boneless center pork loin sinew removed cut into inch chunks well chilled eggs tablespoon all purpose flour cup tawny port tablespoons dried currants minced lettuce leaves cracked peppercorns minced fresh parsley bay leaves french bread baguette slices tablespoons olive oil large red onions halved sliced tablespoons dried currants tablespoons red wine vinegar tablespoons canned chicken broth teaspoons chopped fresh thyme or teaspoon dried crumbled teaspoon sugar festive season'"
      ]
     },
     "execution_count": 12,
     "metadata": {},
     "output_type": "execute_result"
    }
   ],
   "source": [
    "recipes_final.columns\n",
    "recipes_final.iloc[1,12]"
   ]
  },
  {
   "cell_type": "code",
   "execution_count": 13,
   "metadata": {},
   "outputs": [],
   "source": [
    "# Define the sentence to be lemmatized\n",
    "sentence = recipes_final.iloc[:,12]\n",
    "\n",
    "# Perform lemmatization for each recipe (row)\n",
    "lemmatized_output = []\n",
    "for rcp in sentence:\n",
    "    word_list = nltk.word_tokenize(rcp)\n",
    "    lo = ' '.join([lemmatizer.lemmatize(w) for w in word_list])\n",
    "    lemmatized_output.append(lo)"
   ]
  },
  {
   "cell_type": "code",
   "execution_count": 14,
   "metadata": {},
   "outputs": [
    {
     "name": "stdout",
     "output_type": "stream",
     "text": [
      "before: yams braised with cream rosemary and nutmeg teaspoons olive oil cup finely chopped shallots teaspoons minced fresh rosemary pounds yams red skinned sweet potatoes peeled cut into inch thick rounds rounds cut in half cups canned low salt chicken broth cup whipping cream ground nutmeg festive season\n",
      "after: yam braised with cream rosemary and nutmeg teaspoon olive oil cup finely chopped shallot teaspoon minced fresh rosemary pound yam red skinned sweet potato peeled cut into inch thick round round cut in half cup canned low salt chicken broth cup whipping cream ground nutmeg festive season\n"
     ]
    }
   ],
   "source": [
    "# Checking lemmatization\n",
    "print(\"before:\",sentence[10])\n",
    "print(\"after:\",lemmatized_output[10])"
   ]
  },
  {
   "cell_type": "code",
   "execution_count": null,
   "metadata": {},
   "outputs": [],
   "source": []
  },
  {
   "cell_type": "code",
   "execution_count": 15,
   "metadata": {},
   "outputs": [],
   "source": [
    "lem_out_wordlist = [nltk.word_tokenize(x) for x in lemmatized_output]"
   ]
  },
  {
   "cell_type": "code",
   "execution_count": 16,
   "metadata": {},
   "outputs": [],
   "source": [
    "# Create the word count vector ------------------------------------------------------\n",
    "# Here the stopwords are removed, and \n",
    "#ignore words that appear in 85% of documents and below 0.01%\n",
    "from sklearn.feature_extraction.text import TfidfVectorizer\n",
    "\n",
    "# cv=CountVectorizer(stop_words=stopwords,max_df=0.85,min_df= 0.0001)\n",
    "# word_count_vector=cv.fit_transform(lemmatized_output)\n",
    "\n",
    "TfidfVec = TfidfVectorizer(stop_words=stopwords,max_df=0.85,min_df= 0.0001,ngram_range=(1,2))\n",
    "word_count_vector = TfidfVec.fit_transform(lemmatized_output)\n",
    "\n",
    "# Convert to an array\n",
    "trainVectorizerArray = word_count_vector.toarray()"
   ]
  },
  {
   "cell_type": "code",
   "execution_count": 17,
   "metadata": {},
   "outputs": [
    {
     "data": {
      "text/plain": [
       "Index(['title', 'date', 'rating', 'calories', 'ingredients', 'directions',\n",
       "       'fat', 'protein', 'sodium', 'Max Value', 'by Topic Name ', 'titleingrd',\n",
       "       'ingredients_processed'],\n",
       "      dtype='object')"
      ]
     },
     "execution_count": 17,
     "metadata": {},
     "output_type": "execute_result"
    }
   ],
   "source": [
    "recipes_final.columns"
   ]
  },
  {
   "cell_type": "code",
   "execution_count": 18,
   "metadata": {},
   "outputs": [],
   "source": [
    "# Subset columns to display\n",
    "recipes_list = recipes_final[['title', 'date', 'rating', 'calories', 'ingredients', 'directions',\n",
    "       'fat', 'protein', 'sodium', 'Max Value', 'by Topic Name ']]\n",
    "\n",
    "# Reset index name \n",
    "recipes_list = pd.concat([pd.DataFrame(list(recipes_list.index)),recipes_list], axis=1)\n",
    "\n",
    "# Rename the columns\n",
    "recipes_list.columns = ['row_num' ,'title','date','rating','calories', 'ingredients', 'directions', 'fat',\n",
    "        'protein','sodium','Max Value', 'by Topic Name ']"
   ]
  },
  {
   "cell_type": "code",
   "execution_count": 19,
   "metadata": {},
   "outputs": [],
   "source": [
    "# Function to retrieve recipes using the cosine distance between them\n",
    "\n",
    "def getRecipe_cosine(query = \"\", sort = True):\n",
    "    \n",
    "    if query == \"\":\n",
    "        return(print('no match found '))\n",
    "    \n",
    "    # Define empty arrays\n",
    "    distance = [] # Distance between document\n",
    "    row_num = [] # Row number of the document \n",
    "    \n",
    "    # Pre-process query\n",
    "    query_processed = pre_process(str(query))    \n",
    "#     # Spell check the query\n",
    "#     spell = SpellChecker()\n",
    "#     misspelled = spell.unknown(query_processed)\n",
    "    \n",
    "#     corrected =\"\"\n",
    "#     spellcheck_query = \"\"\n",
    "    \n",
    "#     for word in misspelled:\n",
    "#         print(spell.correction(word))\n",
    "#         corrected=[spell.correction(word)]\n",
    "#         if len(corrected)==0:\n",
    "#             corrected.remove('non') \n",
    "#         #print(corrected)\n",
    "\n",
    "#         spellcheck_query = str(query_processed) + str(corrected)\n",
    "\n",
    "        \n",
    "    # Lemmatize the query\n",
    "    query_wlist = nltk.word_tokenize(query_processed)\n",
    "    lemmatized_query = ' '.join([lemmatizer.lemmatize(w) for w in query_wlist])\n",
    "    \n",
    "    # Vectorize the words and convert to an array\n",
    "    testVectorizerArray = TfidfVec.transform([lemmatized_query]).toarray()\n",
    "    \n",
    "    for x in range(len(trainVectorizerArray)):\n",
    "        vector = trainVectorizerArray[x]\n",
    "        for testV in testVectorizerArray:\n",
    "            cosine = cx(vector, testV)\n",
    "            if cosine > 0:\n",
    "                distance.append(cosine)\n",
    "                row_num.append(x)\n",
    "    \n",
    "    \n",
    "    # Concatenate the columns into a dataframe\n",
    "    matches = pd.concat([pd.DataFrame(distance),pd.DataFrame(row_num)],axis = 1)\n",
    "    if matches.empty:\n",
    "        return(print(\" No Recipes with \"+ query))\n",
    "# Provide descriptive the column names\n",
    "    matches.columns = ['similarity_val','row_num']\n",
    "# Sort by the highest similarity value\n",
    "    matches = matches.sort_values(by=['similarity_val'],ascending=False)\n",
    "    print(matches.shape[0], \"recipes matched\")\n",
    "    \n",
    "    # Save the top 10 in a dataframe\n",
    "    results = pd.DataFrame(recipes_list.iloc[matches.row_num[:10],:])\n",
    "    results_score = pd.merge(results,matches[:10], how = 'left', on = 'row_num')\n",
    "    results_score = results_score.sort_values(by = ['Max Value','similarity_val'], ascending=False)\n",
    "    if(sort):\n",
    "        # Sort by time\n",
    "        results = results.sort_values(by = ['date'], ascending=False)\n",
    "        # sort my ratings\n",
    "        results = results.sort_values(by = ['rating'], ascending=False)\n",
    "    else:\n",
    "        results = pd.DataFrame(recipes_list.iloc[matches.row_num[0:10],:])\n",
    "        results_score = pd.merge(results,matches[0:10], how = 'left', on = 'row_num')\n",
    "        #results_score = results_score.sort_values(by = [],ascending=False)\n",
    "        #results.to_excel('query_results_co.xlsx')\n",
    "        results_score = results_score.sort_values(by = ['similarity_val','Max Value'], ascending=False)\n",
    "        \n",
    "    #Return the dataset\n",
    "    if query != '':\n",
    "        return(results_score)"
   ]
  },
  {
   "cell_type": "code",
   "execution_count": 20,
   "metadata": {},
   "outputs": [],
   "source": [
    "# To display full text\n",
    "pd.set_option('display.max_colwidth', -1)"
   ]
  },
  {
   "cell_type": "markdown",
   "metadata": {},
   "source": [
    "# Recipe Search"
   ]
  },
  {
   "cell_type": "code",
   "execution_count": null,
   "metadata": {},
   "outputs": [],
   "source": []
  },
  {
   "cell_type": "code",
   "execution_count": 21,
   "metadata": {},
   "outputs": [
    {
     "name": "stdout",
     "output_type": "stream",
     "text": [
      "Categories to choose from:\n",
      " 1.Asian Delights 2.Cakes and Deserts 3.Festive Season 4.Italian 5.Light bites 6.Rich & Flavourful  7. Summertime  8.Western  \n",
      "\n",
      " Enter your ingredients search here \n",
      "chicken asian\n"
     ]
    }
   ],
   "source": [
    "# Try the retrieval for a few test queries\n",
    "print(\"Categories to choose from:\\n 1.Asian Delights 2.Cakes and Deserts 3.Festive Season 4.Italian 5.Light bites 6.Rich & Flavourful  7. Summertime  8.Western  \\n\")\n",
    "query = input(\" Enter your ingredients search here \\n\")"
   ]
  },
  {
   "cell_type": "code",
   "execution_count": 22,
   "metadata": {
    "scrolled": false
   },
   "outputs": [
    {
     "name": "stdout",
     "output_type": "stream",
     "text": [
      "5416 recipes matched\n",
      "Wall time: 30.8 s\n"
     ]
    },
    {
     "data": {
      "text/html": [
       "<div>\n",
       "<style scoped>\n",
       "    .dataframe tbody tr th:only-of-type {\n",
       "        vertical-align: middle;\n",
       "    }\n",
       "\n",
       "    .dataframe tbody tr th {\n",
       "        vertical-align: top;\n",
       "    }\n",
       "\n",
       "    .dataframe thead th {\n",
       "        text-align: right;\n",
       "    }\n",
       "</style>\n",
       "<table border=\"1\" class=\"dataframe\">\n",
       "  <thead>\n",
       "    <tr style=\"text-align: right;\">\n",
       "      <th></th>\n",
       "      <th>row_num</th>\n",
       "      <th>title</th>\n",
       "      <th>date</th>\n",
       "      <th>rating</th>\n",
       "      <th>calories</th>\n",
       "      <th>ingredients</th>\n",
       "      <th>directions</th>\n",
       "      <th>fat</th>\n",
       "      <th>protein</th>\n",
       "      <th>sodium</th>\n",
       "      <th>Max Value</th>\n",
       "      <th>by Topic Name</th>\n",
       "      <th>similarity_val</th>\n",
       "    </tr>\n",
       "  </thead>\n",
       "  <tbody>\n",
       "    <tr>\n",
       "      <th>0</th>\n",
       "      <td>14794</td>\n",
       "      <td>Spitted Roast Chicken</td>\n",
       "      <td>08/20/2004 04:00</td>\n",
       "      <td>5.000</td>\n",
       "      <td>NaN</td>\n",
       "      <td>[]</td>\n",
       "      <td>['Put a good square of butter and a little salt and pepper in the cavity of each chicken. Truss well and brush them with melted butter or oil seasoned to taste with salt, pepper and paprika. Spit them carefully. Run the spit through the backbone just above the tail and guide it to the top part of the breast at the base of the neck. This way you achieve a good balance.', 'When your fire has burned down to a good bed of coals, make a ring of the briquets or charcoal leaving the center area directly under the chickens clear to catch the drippings. Arrange the spitted chickens over this space and roast, basting them frequently with equal parts of melted butter and white wine or dry vermouth. The cooking time will take from 45 minutes to 1 1/4 hours, depending on the size of the birds.', 'Plain roast chicken goes best with crisp sautÃ©ed potatoes and a fresh green salad with a minimum of dressing. As for wine, most people prefer a white, such as a Pinot Blanc from California, or a Meursault or Pouilly FuissÃ© from France.']</td>\n",
       "      <td>NaN</td>\n",
       "      <td>NaN</td>\n",
       "      <td>NaN</td>\n",
       "      <td>0.125000</td>\n",
       "      <td>Asian Delights, Asian Delights, Asian Delights</td>\n",
       "      <td>0.537</td>\n",
       "    </tr>\n",
       "    <tr>\n",
       "      <th>1</th>\n",
       "      <td>4475</td>\n",
       "      <td>Braised Chicken Teriyaki</td>\n",
       "      <td>08/20/2004 04:00</td>\n",
       "      <td>3.750</td>\n",
       "      <td>1253.0</td>\n",
       "      <td>['1 cup soy sauce', '3/4 cup sake or dry white wine', '3/4 cup canned low-salt chicken broth', '1/4 cup sugar', '1 1/2 tablespoons minced peeled fresh ginger', '4 large garlic cloves, minced', '1 4 1/2-pound fryer chicken']</td>\n",
       "      <td>['Stir first 6 ingredients in heavy large pot over low heat until sugar dissolves. Add chicken. Cover pot and simmer until chicken is just cooked through, turning occasionally, about 50 minutes. Transfer chicken to platter; cover with foil to keep warm. Increase heat and boil sauce until reduced to 1 1/2 cups, about 15 minutes. Spoon sauce over.']</td>\n",
       "      <td>78.0</td>\n",
       "      <td>102.0</td>\n",
       "      <td>3874.0</td>\n",
       "      <td>0.492326</td>\n",
       "      <td>Asian Delights, Festive Season</td>\n",
       "      <td>0.364</td>\n",
       "    </tr>\n",
       "    <tr>\n",
       "      <th>2</th>\n",
       "      <td>15195</td>\n",
       "      <td>Beer-Basted Chicken with Asian Flavors</td>\n",
       "      <td>08/20/2004 04:00</td>\n",
       "      <td>4.375</td>\n",
       "      <td>1101.0</td>\n",
       "      <td>['1 3 1/2- to 4-pound chicken', '1 12-ounce can beer', '6 green onions, chopped', '1/2 cup soy sauce', '1/4 cup fresh lemon juice', '2 tablespoons (packed) golden brown sugar', '2 tablespoons chopped peeled fresh ginger', '1 tablespoon chopped garlic', '1 tablespoon oriental sesame oil']</td>\n",
       "      <td>['Combine all ingredients in heavy large resealable plastic bag. Refrigerate 1 hour and up to 1 day, turning bag occasionally.', 'Preheat oven to 350Â°F. Place chicken and marinade in 13 x 9 x 2-inch baking pan. Roast chicken until juices run clear when thigh is pierced, basting occasionally, about 1 hour 20 minutes.', 'Transfer chicken to platter. Pour pan juices into medium saucepan; spoon off fat and discard. Boil until sauce is reduced to 1 cup, about 6 minutes. Serve chicken with sauce.']</td>\n",
       "      <td>72.0</td>\n",
       "      <td>88.0</td>\n",
       "      <td>2078.0</td>\n",
       "      <td>0.460461</td>\n",
       "      <td>Rich &amp; Flavourful, Asian Delights</td>\n",
       "      <td>0.310</td>\n",
       "    </tr>\n",
       "    <tr>\n",
       "      <th>3</th>\n",
       "      <td>6470</td>\n",
       "      <td>Chicken Vedova</td>\n",
       "      <td>08/20/2004 04:00</td>\n",
       "      <td>3.125</td>\n",
       "      <td>NaN</td>\n",
       "      <td>[]</td>\n",
       "      <td>['In Udine the chicken were free-range, small and scrawny. To make this dish you need poussins, or very small chickens. Cut four 1 1/2-pound chickens in two. Rub the chicken with garlic cloves and then with 2 tablespoons lime juice. Sprinkle the chickens with salt and pepper. Mix 2 tablespoons oregano with 2 tablespoons thyme. Rub the chicken with the herbs and refrigerate for at least 1 hour. Just before broiling, rub the chickens with 2 tablespoons olive oil. Broil the chickens on one side for 8 minutes, turn them, and broil them for another 8 minutes. The broiling time depends on how large the chickens are. Serve the chickens with a salad of watercress.']</td>\n",
       "      <td>NaN</td>\n",
       "      <td>NaN</td>\n",
       "      <td>NaN</td>\n",
       "      <td>0.125000</td>\n",
       "      <td>Asian Delights, Asian Delights, Asian Delights</td>\n",
       "      <td>0.170</td>\n",
       "    </tr>\n",
       "    <tr>\n",
       "      <th>4</th>\n",
       "      <td>2039</td>\n",
       "      <td>Chicken Tarragon</td>\n",
       "      <td>08/20/2004 04:00</td>\n",
       "      <td>5.000</td>\n",
       "      <td>NaN</td>\n",
       "      <td>[]</td>\n",
       "      <td>['Put 2 sprigs of fresh tarragon and a sprig of parsley into the cavity of the bird along with butter, salt and pepper. Truss the bird and then slip a few tarragon leaves under the skin of the breast, working down from the neck and being careful not to puncture the skin as you separate it from the flesh. Brush the bird with seasoned melted butter in which you have steeped a few tarragon leaves. Roast according to directions for spitted roast chicken , basting with more tarragon butter during the cooking.', 'Serve with tarragon butter and potatoes that have been wrapped in foil and roasted in the coals. A bowl of fresh raw vegetables is an excellent accompaniment.']</td>\n",
       "      <td>NaN</td>\n",
       "      <td>NaN</td>\n",
       "      <td>NaN</td>\n",
       "      <td>0.125000</td>\n",
       "      <td>Asian Delights, Asian Delights, Asian Delights</td>\n",
       "      <td>0.150</td>\n",
       "    </tr>\n",
       "    <tr>\n",
       "      <th>5</th>\n",
       "      <td>6772</td>\n",
       "      <td>Risotto</td>\n",
       "      <td>01/14/2010 04:00</td>\n",
       "      <td>4.375</td>\n",
       "      <td>NaN</td>\n",
       "      <td>[]</td>\n",
       "      <td>['For enough risotto to serve four, heat about 2 tablespoons of butter in a sauce pan. Add 1 cup of a round-grain rice such as Arborio or Carnaroli and stir the rice over medium heat. Add the broth, one cup at a time, until the rice has absorbed 3 cups of liquid. You should stir the risotto frequently as it cooks to get a good creamy texture. (If you like, replace 1/2 cup of the broth with 1/2 cup dry white wine.) For a saffron risotto, add a few threads of crushed saffron with the first cup of broth.', 'Once the rice is tender and creamy, pull it off the heat and add 2 tablespoon butter and 1/3 to 1/2 cup grated Parmesan cheese. Stir the risotto vigorously until the butter and cheese are blended in. Serve at once on heated plates.']</td>\n",
       "      <td>NaN</td>\n",
       "      <td>NaN</td>\n",
       "      <td>NaN</td>\n",
       "      <td>0.125000</td>\n",
       "      <td>Asian Delights, Asian Delights, Asian Delights</td>\n",
       "      <td>0.120</td>\n",
       "    </tr>\n",
       "    <tr>\n",
       "      <th>6</th>\n",
       "      <td>15950</td>\n",
       "      <td>Kebabs</td>\n",
       "      <td>08/20/2004 04:00</td>\n",
       "      <td>2.500</td>\n",
       "      <td>NaN</td>\n",
       "      <td>[]</td>\n",
       "      <td>['1. String cubes of meat on skewers, brush well with olive oil and broil, turning often. If you crowd the cubes together, you will have rare juicy meat. If the cubes are placed further apart, you will have medium well done meat. (Remember, pork must be well done.) Salt and pepper the kebabs to taste as they cook.', 'Serve these plain kebabs with rice mixed with pistachio nuts and a plate of crisp French fried onion rings.', '2. Marinate meat cubes in a mixture of olive oil, lemon juice and a pinch of dried thyme. Let the meat soak for 2 hours or more. Alternate the cubes on skewers with tiny tomatoes, tiny whole onions that have been parboiled for a few minutes and strips of green pepper. Broil as above, brushing with the marinade during the cooking.', '3. Soak the meat in a marinade of olive oil, lemon juice, oregano and plenty of coarse black pepper. Proceed as above.', '4. Alternate lamb cubes with pieces of sweetbread and marinate in olive oil, lemon juice and several crushed bay leaves. Proceed as above.', '5. Alternate cubes of lamb or beef with squares of eggplant. Marinate in olive oil, lemon juice, grated garlic and black pepper. Broil as above.']</td>\n",
       "      <td>NaN</td>\n",
       "      <td>NaN</td>\n",
       "      <td>NaN</td>\n",
       "      <td>0.125000</td>\n",
       "      <td>Asian Delights, Asian Delights, Asian Delights</td>\n",
       "      <td>0.119</td>\n",
       "    </tr>\n",
       "    <tr>\n",
       "      <th>7</th>\n",
       "      <td>2683</td>\n",
       "      <td>Asian Lamb Stir-Fry in Radicchio Wraps</td>\n",
       "      <td>08/20/2004 04:00</td>\n",
       "      <td>0.000</td>\n",
       "      <td>NaN</td>\n",
       "      <td>[]</td>\n",
       "      <td>[]</td>\n",
       "      <td>NaN</td>\n",
       "      <td>NaN</td>\n",
       "      <td>NaN</td>\n",
       "      <td>0.125000</td>\n",
       "      <td>Asian Delights, Asian Delights, Asian Delights</td>\n",
       "      <td>0.115</td>\n",
       "    </tr>\n",
       "    <tr>\n",
       "      <th>8</th>\n",
       "      <td>12523</td>\n",
       "      <td>To Zest Citrus Fruits</td>\n",
       "      <td>08/20/2004 04:00</td>\n",
       "      <td>5.000</td>\n",
       "      <td>NaN</td>\n",
       "      <td>[]</td>\n",
       "      <td>['To zest citrus fruits, remove the colored part of the rind only (avoid the bitter white pith). For strips, use a vegetable peeler. For grated zest, we prefer using a rasplike Microplane zester, which results in fluffier zest, so pack to measure.']</td>\n",
       "      <td>NaN</td>\n",
       "      <td>NaN</td>\n",
       "      <td>NaN</td>\n",
       "      <td>0.125000</td>\n",
       "      <td>Asian Delights, Asian Delights, Asian Delights</td>\n",
       "      <td>0.114</td>\n",
       "    </tr>\n",
       "    <tr>\n",
       "      <th>9</th>\n",
       "      <td>15540</td>\n",
       "      <td>Cracking and Grating Coconut</td>\n",
       "      <td>08/20/2004 04:00</td>\n",
       "      <td>3.750</td>\n",
       "      <td>NaN</td>\n",
       "      <td>[]</td>\n",
       "      <td>[\"Extracting the meat from a coconut is not as difficult as you may think. Pierce several of the coconutâ€™s eyes with a screwdriver or sharp metal skewer. Drain the thin, clear liquid into a bowl and taste it: If it's oily rather than sweet, the nut is rancid and should be tossed out. Bake the whole coconut in a shallow baking pan at 400Â°F until it cracks, about 20 minutes. When it's cool, wrap it in a towel and break it apart with a hammer. Pry the flesh from the shell with a screwdriver or a dull table knife and peel off the brown membrane with a vegetable peeler. Rinse the coconut under cold water and dry. Grate the coconut, using the medium shredding disk of a food processor or the medium teardrop-shaped holes of a four-sided grater, and chill, covered, until ready to use. â€”\"]</td>\n",
       "      <td>NaN</td>\n",
       "      <td>NaN</td>\n",
       "      <td>NaN</td>\n",
       "      <td>0.125000</td>\n",
       "      <td>Asian Delights, Asian Delights, Asian Delights</td>\n",
       "      <td>0.112</td>\n",
       "    </tr>\n",
       "  </tbody>\n",
       "</table>\n",
       "</div>"
      ],
      "text/plain": [
       "   row_num                                    title              date  rating  \\\n",
       "0  14794    Spitted Roast Chicken                    08/20/2004 04:00  5.000    \n",
       "1  4475     Braised Chicken Teriyaki                 08/20/2004 04:00  3.750    \n",
       "2  15195    Beer-Basted Chicken with Asian Flavors   08/20/2004 04:00  4.375    \n",
       "3  6470     Chicken Vedova                           08/20/2004 04:00  3.125    \n",
       "4  2039     Chicken Tarragon                         08/20/2004 04:00  5.000    \n",
       "5  6772     Risotto                                  01/14/2010 04:00  4.375    \n",
       "6  15950    Kebabs                                   08/20/2004 04:00  2.500    \n",
       "7  2683     Asian Lamb Stir-Fry in Radicchio Wraps   08/20/2004 04:00  0.000    \n",
       "8  12523    To Zest Citrus Fruits                    08/20/2004 04:00  5.000    \n",
       "9  15540    Cracking and Grating Coconut             08/20/2004 04:00  3.750    \n",
       "\n",
       "   calories  \\\n",
       "0 NaN         \n",
       "1  1253.0     \n",
       "2  1101.0     \n",
       "3 NaN         \n",
       "4 NaN         \n",
       "5 NaN         \n",
       "6 NaN         \n",
       "7 NaN         \n",
       "8 NaN         \n",
       "9 NaN         \n",
       "\n",
       "                                                                                                                                                                                                                                                                                        ingredients  \\\n",
       "0  []                                                                                                                                                                                                                                                                                                 \n",
       "1  ['1 cup soy sauce', '3/4 cup sake or dry white wine', '3/4 cup canned low-salt chicken broth', '1/4 cup sugar', '1 1/2 tablespoons minced peeled fresh ginger', '4 large garlic cloves, minced', '1 4 1/2-pound fryer chicken']                                                                    \n",
       "2  ['1 3 1/2- to 4-pound chicken', '1 12-ounce can beer', '6 green onions, chopped', '1/2 cup soy sauce', '1/4 cup fresh lemon juice', '2 tablespoons (packed) golden brown sugar', '2 tablespoons chopped peeled fresh ginger', '1 tablespoon chopped garlic', '1 tablespoon oriental sesame oil']   \n",
       "3  []                                                                                                                                                                                                                                                                                                 \n",
       "4  []                                                                                                                                                                                                                                                                                                 \n",
       "5  []                                                                                                                                                                                                                                                                                                 \n",
       "6  []                                                                                                                                                                                                                                                                                                 \n",
       "7  []                                                                                                                                                                                                                                                                                                 \n",
       "8  []                                                                                                                                                                                                                                                                                                 \n",
       "9  []                                                                                                                                                                                                                                                                                                 \n",
       "\n",
       "                                                                                                                                                                                                                                                                                                                                                                                                                                                                                                                                                                                                                                                                                                                                                                                                                                                                                                                                                                                                                                                                                                                                                                                                                directions  \\\n",
       "0  ['Put a good square of butter and a little salt and pepper in the cavity of each chicken. Truss well and brush them with melted butter or oil seasoned to taste with salt, pepper and paprika. Spit them carefully. Run the spit through the backbone just above the tail and guide it to the top part of the breast at the base of the neck. This way you achieve a good balance.', 'When your fire has burned down to a good bed of coals, make a ring of the briquets or charcoal leaving the center area directly under the chickens clear to catch the drippings. Arrange the spitted chickens over this space and roast, basting them frequently with equal parts of melted butter and white wine or dry vermouth. The cooking time will take from 45 minutes to 1 1/4 hours, depending on the size of the birds.', 'Plain roast chicken goes best with crisp sautÃ©ed potatoes and a fresh green salad with a minimum of dressing. As for wine, most people prefer a white, such as a Pinot Blanc from California, or a Meursault or Pouilly FuissÃ© from France.']                                                                                                                                                \n",
       "1  ['Stir first 6 ingredients in heavy large pot over low heat until sugar dissolves. Add chicken. Cover pot and simmer until chicken is just cooked through, turning occasionally, about 50 minutes. Transfer chicken to platter; cover with foil to keep warm. Increase heat and boil sauce until reduced to 1 1/2 cups, about 15 minutes. Spoon sauce over.']                                                                                                                                                                                                                                                                                                                                                                                                                                                                                                                                                                                                                                                                                                                                                                                                                                                             \n",
       "2  ['Combine all ingredients in heavy large resealable plastic bag. Refrigerate 1 hour and up to 1 day, turning bag occasionally.', 'Preheat oven to 350Â°F. Place chicken and marinade in 13 x 9 x 2-inch baking pan. Roast chicken until juices run clear when thigh is pierced, basting occasionally, about 1 hour 20 minutes.', 'Transfer chicken to platter. Pour pan juices into medium saucepan; spoon off fat and discard. Boil until sauce is reduced to 1 cup, about 6 minutes. Serve chicken with sauce.']                                                                                                                                                                                                                                                                                                                                                                                                                                                                                                                                                                                                                                                                                                        \n",
       "3  ['In Udine the chicken were free-range, small and scrawny. To make this dish you need poussins, or very small chickens. Cut four 1 1/2-pound chickens in two. Rub the chicken with garlic cloves and then with 2 tablespoons lime juice. Sprinkle the chickens with salt and pepper. Mix 2 tablespoons oregano with 2 tablespoons thyme. Rub the chicken with the herbs and refrigerate for at least 1 hour. Just before broiling, rub the chickens with 2 tablespoons olive oil. Broil the chickens on one side for 8 minutes, turn them, and broil them for another 8 minutes. The broiling time depends on how large the chickens are. Serve the chickens with a salad of watercress.']                                                                                                                                                                                                                                                                                                                                                                                                                                                                                                                                \n",
       "4  ['Put 2 sprigs of fresh tarragon and a sprig of parsley into the cavity of the bird along with butter, salt and pepper. Truss the bird and then slip a few tarragon leaves under the skin of the breast, working down from the neck and being careful not to puncture the skin as you separate it from the flesh. Brush the bird with seasoned melted butter in which you have steeped a few tarragon leaves. Roast according to directions for spitted roast chicken , basting with more tarragon butter during the cooking.', 'Serve with tarragon butter and potatoes that have been wrapped in foil and roasted in the coals. A bowl of fresh raw vegetables is an excellent accompaniment.']                                                                                                                                                                                                                                                                                                                                                                                                                                                                                                                         \n",
       "5  ['For enough risotto to serve four, heat about 2 tablespoons of butter in a sauce pan. Add 1 cup of a round-grain rice such as Arborio or Carnaroli and stir the rice over medium heat. Add the broth, one cup at a time, until the rice has absorbed 3 cups of liquid. You should stir the risotto frequently as it cooks to get a good creamy texture. (If you like, replace 1/2 cup of the broth with 1/2 cup dry white wine.) For a saffron risotto, add a few threads of crushed saffron with the first cup of broth.', 'Once the rice is tender and creamy, pull it off the heat and add 2 tablespoon butter and 1/3 to 1/2 cup grated Parmesan cheese. Stir the risotto vigorously until the butter and cheese are blended in. Serve at once on heated plates.']                                                                                                                                                                                                                                                                                                                                                                                                                                                   \n",
       "6  ['1. String cubes of meat on skewers, brush well with olive oil and broil, turning often. If you crowd the cubes together, you will have rare juicy meat. If the cubes are placed further apart, you will have medium well done meat. (Remember, pork must be well done.) Salt and pepper the kebabs to taste as they cook.', 'Serve these plain kebabs with rice mixed with pistachio nuts and a plate of crisp French fried onion rings.', '2. Marinate meat cubes in a mixture of olive oil, lemon juice and a pinch of dried thyme. Let the meat soak for 2 hours or more. Alternate the cubes on skewers with tiny tomatoes, tiny whole onions that have been parboiled for a few minutes and strips of green pepper. Broil as above, brushing with the marinade during the cooking.', '3. Soak the meat in a marinade of olive oil, lemon juice, oregano and plenty of coarse black pepper. Proceed as above.', '4. Alternate lamb cubes with pieces of sweetbread and marinate in olive oil, lemon juice and several crushed bay leaves. Proceed as above.', '5. Alternate cubes of lamb or beef with squares of eggplant. Marinate in olive oil, lemon juice, grated garlic and black pepper. Broil as above.']   \n",
       "7  []                                                                                                                                                                                                                                                                                                                                                                                                                                                                                                                                                                                                                                                                                                                                                                                                                                                                                                                                                                                                                                                                                                                                                                                                                        \n",
       "8  ['To zest citrus fruits, remove the colored part of the rind only (avoid the bitter white pith). For strips, use a vegetable peeler. For grated zest, we prefer using a rasplike Microplane zester, which results in fluffier zest, so pack to measure.']                                                                                                                                                                                                                                                                                                                                                                                                                                                                                                                                                                                                                                                                                                                                                                                                                                                                                                                                                                 \n",
       "9  [\"Extracting the meat from a coconut is not as difficult as you may think. Pierce several of the coconutâ€™s eyes with a screwdriver or sharp metal skewer. Drain the thin, clear liquid into a bowl and taste it: If it's oily rather than sweet, the nut is rancid and should be tossed out. Bake the whole coconut in a shallow baking pan at 400Â°F until it cracks, about 20 minutes. When it's cool, wrap it in a towel and break it apart with a hammer. Pry the flesh from the shell with a screwdriver or a dull table knife and peel off the brown membrane with a vegetable peeler. Rinse the coconut under cold water and dry. Grate the coconut, using the medium shredding disk of a food processor or the medium teardrop-shaped holes of a four-sided grater, and chill, covered, until ready to use. â€”\"]                                                                                                                                                                                                                                                                                                                                                                                               \n",
       "\n",
       "    fat  protein  sodium  Max Value  \\\n",
       "0 NaN   NaN      NaN      0.125000    \n",
       "1  78.0  102.0    3874.0  0.492326    \n",
       "2  72.0  88.0     2078.0  0.460461    \n",
       "3 NaN   NaN      NaN      0.125000    \n",
       "4 NaN   NaN      NaN      0.125000    \n",
       "5 NaN   NaN      NaN      0.125000    \n",
       "6 NaN   NaN      NaN      0.125000    \n",
       "7 NaN   NaN      NaN      0.125000    \n",
       "8 NaN   NaN      NaN      0.125000    \n",
       "9 NaN   NaN      NaN      0.125000    \n",
       "\n",
       "                                   by Topic Name   similarity_val  \n",
       "0  Asian Delights, Asian Delights, Asian Delights  0.537           \n",
       "1  Asian Delights, Festive Season                  0.364           \n",
       "2  Rich & Flavourful, Asian Delights               0.310           \n",
       "3  Asian Delights, Asian Delights, Asian Delights  0.170           \n",
       "4  Asian Delights, Asian Delights, Asian Delights  0.150           \n",
       "5  Asian Delights, Asian Delights, Asian Delights  0.120           \n",
       "6  Asian Delights, Asian Delights, Asian Delights  0.119           \n",
       "7  Asian Delights, Asian Delights, Asian Delights  0.115           \n",
       "8  Asian Delights, Asian Delights, Asian Delights  0.114           \n",
       "9  Asian Delights, Asian Delights, Asian Delights  0.112           "
      ]
     },
     "execution_count": 22,
     "metadata": {},
     "output_type": "execute_result"
    }
   ],
   "source": [
    "%%time\n",
    "getRecipe_cosine(query,sort = False)"
   ]
  },
  {
   "cell_type": "markdown",
   "metadata": {},
   "source": [
    "# Evaluation of Document Retrieval "
   ]
  },
  {
   "cell_type": "markdown",
   "metadata": {},
   "source": [
    "### Precision & Recall"
   ]
  },
  {
   "cell_type": "markdown",
   "metadata": {},
   "source": [
    "Precision measures \"of all the documents we retrieved as relevant how many are actually relevant?\"\n",
    "Recall measures \"Of all the actual relevant documents how many did we retrieve as relevant?\"\n",
    "F-Score / F-measure is the weighted harmonic mean of precision and recall. The traditional F-measure or balanced F-score is:"
   ]
  },
  {
   "cell_type": "code",
   "execution_count": 23,
   "metadata": {},
   "outputs": [
    {
     "name": "stdout",
     "output_type": "stream",
     "text": [
      "Precision = 0.6\n",
      "Recall =  0.3\n",
      "F-Score = 0.4\n"
     ]
    }
   ],
   "source": [
    "# Precision = No. of relevant documents retrieved / No. of total documents retrieved\n",
    "precision = 6/10\n",
    "print (\"Precision =\", precision)\n",
    "\n",
    "# Recall = No. of relevant documents retrieved / No. of total relevant documents\n",
    "recall = 6/20 # orbitary number here\n",
    "print (\"Recall = \", recall)\n",
    "\n",
    "Fscore = 2 * precision * recall /(precision + recall)\n",
    "print (\"F-Score =\", Fscore)"
   ]
  }
 ],
 "metadata": {
  "kernelspec": {
   "display_name": "Python 3",
   "language": "python",
   "name": "python3"
  },
  "language_info": {
   "codemirror_mode": {
    "name": "ipython",
    "version": 3
   },
   "file_extension": ".py",
   "mimetype": "text/x-python",
   "name": "python",
   "nbconvert_exporter": "python",
   "pygments_lexer": "ipython3",
   "version": "3.6.5"
  }
 },
 "nbformat": 4,
 "nbformat_minor": 2
}
